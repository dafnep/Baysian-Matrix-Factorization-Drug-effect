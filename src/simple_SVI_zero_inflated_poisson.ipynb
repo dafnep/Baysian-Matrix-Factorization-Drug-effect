{
 "cells": [
  {
   "cell_type": "code",
   "execution_count": 1,
   "metadata": {},
   "outputs": [],
   "source": [
    "import logging\n",
    "\n",
    "import pickle\n",
    "\n",
    "import torch\n",
    "import matplotlib.pyplot as plt\n",
    "import numpy as np\n",
    "import pandas as pd\n",
    "import seaborn as sns\n",
    "from torch.distributions import constraints\n",
    "from torch import nn\n",
    "import pyro\n",
    "import pyro.distributions as dist\n",
    "import pyro.optim as optim\n",
    "from pyro.infer import SVI, Trace_ELBO\n",
    "from pyro.optim import Adam\n",
    "from pyro.infer import Predictive\n",
    "import seaborn as sns\n",
    "from pyro import poutine\n",
    "from sklearn import metrics"
   ]
  },
  {
   "cell_type": "code",
   "execution_count": 2,
   "metadata": {},
   "outputs": [],
   "source": [
    "pyro.set_rng_seed(10)"
   ]
  },
  {
   "cell_type": "code",
   "execution_count": 3,
   "metadata": {},
   "outputs": [
    {
     "name": "stdout",
     "output_type": "stream",
     "text": [
      "(1127, 5237)\n"
     ]
    }
   ],
   "source": [
    "\n",
    "with open('data_all.pickle', 'rb') as handle:\n",
    "    data = pickle.load(handle)\n",
    "print(data.shape)\n",
    "\n"
   ]
  },
  {
   "cell_type": "code",
   "execution_count": 4,
   "metadata": {},
   "outputs": [],
   "source": [
    "class PMF_zero_inflated_poisson(nn.Module):\n",
    "\n",
    "    # by default our latent space is 50-dimensional\n",
    "    # and we use 400 hidden units\n",
    "    def __init__(self,data, train, dim):\n",
    "        super().__init__()\n",
    "        \"\"\"Build the Probabilistic Matrix Factorization model using pymc3.\n",
    "\n",
    "\n",
    "\n",
    "        \"\"\"\n",
    "        self.dim = dim   \n",
    "        self.data = data.copy()\n",
    "        self.n, self.m = self.data.shape\n",
    "        self.map = None\n",
    "        self.bounds = (0,1)\n",
    "        self.losses = None\n",
    "        self.predictions = None\n",
    "        self.returned = None\n",
    "        self.predictive_svi = None\n",
    "\n",
    "\n",
    "        # Perform mean value imputation\n",
    "    \n",
    "        \n",
    "        # Low precision reflects uncertainty; prevents overfitting.\n",
    "        # Set to the mean variance across users and items.\n",
    "        self.alpha_u = (np.mean(self.data, axis=1).mean())**2 / np.std(self.data, axis=1).mean()\n",
    "        self.alpha_v = (np.mean(self.data, axis=0).mean())**2 / np.std(self.data, axis=0).mean()\n",
    "        \n",
    "        self.beta_u = (np.mean(self.data, axis=1).mean()) / np.std(self.data, axis=1).mean()\n",
    "        self.beta_v = (np.mean(self.data, axis=0).mean()) / np.std(self.data, axis=0).mean()\n",
    "        self.bias = self.data.mean()\n",
    "        self.alpha = 1\n",
    "\n",
    "\n",
    "    def model(self, train, mask):\n",
    "        alpha = 1\n",
    "        beta = 1\n",
    "\n",
    "        drug_plate = pyro.plate(\"drug_latents\", self.n, dim= -1) #independent users\n",
    "        sideeffect_plate = pyro.plate(\"sideeffect_latents\", self.m, dim= -1) #independent items\n",
    "\n",
    "        with drug_plate: \n",
    "            UA = pyro.sample(\"UA\", dist.Gamma(self.alpha_u, self.beta_u).expand([self.dim]).to_event(1))\n",
    "            #alpha = pyro.sample(\"alpha\", dist.Poisson(self.alpha))\n",
    "            #relates to drugs that people tend not to report side effects\n",
    "            p = pyro.sample(\"p\", dist.Beta(alpha, beta))\n",
    "        \n",
    "        with sideeffect_plate:\n",
    "            VA = pyro.sample(\"VA\", dist.Gamma(self.alpha_v, self.beta_v).expand([self.dim]).to_event(1))\n",
    "            #possibly add intercepts VA_int = pyro.sample(\"VA\", dist.Normal(0., 1.).to_event(1))\n",
    "       \n",
    "        u2_plate = pyro.plate(\"u2_plate\", self.n, dim=-2)\n",
    "\n",
    "        with sideeffect_plate, u2_plate: \n",
    "           # with pyro.poutine.mask(mask=mask):\n",
    "             Y = pyro.sample(\"target\", dist.ZeroInflatedPoisson( rate = UA@VA.T ,gate = p[:, np.newaxis]), obs=train ) \n",
    "             return Y\n",
    "        \n",
    "\n",
    "    def guide(self, train=None, mask=None):\n",
    "\n",
    "        d_alpha = pyro.param('d_alpha', torch.ones(self.n,self.dim), constraint=constraints.positive)#*self.user_mean)\n",
    "        d_beta = pyro.param('d_beta', 0.5*torch.ones(self.n,self.dim), constraint=constraints.positive)\n",
    "        rate_alpha = pyro.param('rate_alpha', torch.ones(self.n), constraint=constraints.positive)\n",
    "        rate_beta = pyro.param('rate_beta', torch.ones(self.n), constraint=constraints.positive)\n",
    "\n",
    "\n",
    "        s_alpha = pyro.param('s_alpha', torch.ones(self.m,self.dim), constraint=constraints.positive)#*self.item_mean)\n",
    "        s_beta = pyro.param('s_beta', 0.5*torch.ones(self.m,self.dim), constraint=constraints.positive)\n",
    "        drug_plate = pyro.plate(\"drug_latents\", self.n, dim= -1) #independent users\n",
    "        sideeffect_plate = pyro.plate(\"sideeffect_latents\", self.m, dim= -1) #independent items\n",
    "\n",
    "        with drug_plate: \n",
    "            UA = pyro.sample(\"UA\", dist.Gamma(d_alpha, d_beta).to_event(1))\n",
    "            p = pyro.sample(\"p\", dist.Beta(rate_beta,rate_alpha))\n",
    "\n",
    "        with sideeffect_plate: \n",
    "            VA = pyro.sample(\"VA\", dist.Gamma(s_alpha, s_beta).to_event(1))\n",
    "    \n",
    "    def train_SVI(self,train,mask, nsteps=500, lr = 0.05, lrd = 1, verbose=True):\n",
    "        logging.basicConfig(format='%(message)s', level=logging.INFO)\n",
    "        svi = SVI(self.model,\n",
    "        self.guide,\n",
    "        optim.ClippedAdam({\"lr\": lr, \"lrd\": lrd}),\n",
    "        loss=Trace_ELBO())\n",
    "        losses = []\n",
    "        for step in range(nsteps):\n",
    "            elbo = svi.step(torch.from_numpy(train).float(), mask)\n",
    "            losses.append(elbo)\n",
    "            if(verbose):\n",
    "                if step % 10 == 0:\n",
    "                    print(\"Elbo loss: {}\".format(elbo))\n",
    "        self.losses = losses\n",
    "        #constrained_params = list(pyro.get_param_store().values())\n",
    "        #PARAMS = [p.unconstrained() for p in constrained_params]\n",
    "        #print(PARAMS)\n",
    "        return losses\n",
    "    \n",
    "    def sample_predict(self, nsamples=500 , verbose=True):\n",
    "        unmasked =torch.ones((self.n,self.m), dtype=torch.bool)\n",
    "        predictive_svi = Predictive(self.model, guide=self.guide, num_samples=nsamples)(None , unmasked)\n",
    "        if (verbose):\n",
    "            for k, v in predictive_svi.items():\n",
    "                print(f\"{k}: {tuple(v.shape)}\")\n",
    "        table = predictive_svi[\"target\"].numpy()\n",
    "        self.predictive_svi = predictive_svi\n",
    "        self.returned = table\n",
    "        mc_table = table.mean(axis = 0)\n",
    "        mc_table_std = table.std(axis = 0)\n",
    "\n",
    "        self.predictions = mc_table\n",
    "        \n",
    "    def predictive_score(self,test,masked):\n",
    "        # total = test.shape[0]*test.shape[1]\n",
    "        \n",
    "        UA =  self.predictive_svi[\"UA\"]\n",
    "        VA = self.predictive_svi[\"VA\"]\n",
    "        p=self.predictive_svi[\"p\"].mean(axis=0).reshape(self.n)\n",
    "        VA = VA.mean(axis=0).reshape(self.m,self.dim)\n",
    "        UA = UA.mean(axis=0).reshape(self.n,self.dim)\n",
    "        print(UA.shape)\n",
    "        score =  dist.ZeroInflatedPoisson( rate = UA@VA.T ,gate = p[:, np.newaxis]).log_prob(torch.from_numpy(test))\n",
    "        mean_score = (score*masked).reshape(-1).logsumexp(-1) -np.log(test.shape[0]*test.shape[1])\n",
    "        return mean_score\n",
    "        \n",
    "    \n",
    "  \n",
    "    def rmse(self,test,masked,h):\n",
    "        low, high = self.bounds\n",
    "        test_data = test.copy()\n",
    "        test_data[test_data < h] = low\n",
    "        test_data[test_data >= h] = high\n",
    "        size = masked.sum()\n",
    "        predictions = self.predictions\n",
    "        predictions[predictions < h] = low\n",
    "        predictions[predictions >= h] = high\n",
    "        sqerror = abs(test_data[masked] - predictions[masked]) ** 2  # squared error array\n",
    "        mse = sqerror.sum()/size\n",
    "        print(\"PMF  RMSE: \" , np.sqrt(mse))\n",
    "        fpr, tpr, thresholds = metrics.roc_curve(test_data[masked].astype(int).flatten(),  predictions[masked].astype(int).flatten(), pos_label=1)\n",
    "        metrics.auc(fpr, tpr)\n",
    "        print(\"AUC: %.5f\" % metrics.auc(fpr, tpr))\n",
    "        return np.sqrt(mse) , metrics.auc(fpr, tpr)\n",
    "\n",
    "    def get_predictions(self):\n",
    "        return (self.returned,self.predictions)\n",
    "\n",
    "    def get_predictive_svi(self):\n",
    "         return (self.predictive_svi)\n",
    "\n",
    "    \n",
    "   \n",
    "       \n",
    "\n",
    "    "
   ]
  },
  {
   "cell_type": "code",
   "execution_count": 5,
   "metadata": {},
   "outputs": [
    {
     "name": "stdout",
     "output_type": "stream",
     "text": [
      "(1127, 5237)\n",
      "UA: (250, 1, 1127, 1)\n",
      "p: (250, 1, 1127)\n",
      "VA: (250, 1, 5237, 1)\n",
      "target: (250, 1127, 5237)\n",
      "torch.Size([1127, 1])\n",
      "UA: (250, 1, 1127, 5)\n",
      "p: (250, 1, 1127)\n",
      "VA: (250, 1, 5237, 5)\n",
      "target: (250, 1127, 5237)\n",
      "torch.Size([1127, 5])\n",
      "UA: (250, 1, 1127, 10)\n",
      "p: (250, 1, 1127)\n",
      "VA: (250, 1, 5237, 10)\n",
      "target: (250, 1127, 5237)\n",
      "torch.Size([1127, 10])\n",
      "UA: (250, 1, 1127, 20)\n",
      "p: (250, 1, 1127)\n",
      "VA: (250, 1, 5237, 20)\n",
      "target: (250, 1127, 5237)\n",
      "torch.Size([1127, 20])\n",
      "UA: (250, 1, 1127, 50)\n",
      "p: (250, 1, 1127)\n",
      "VA: (250, 1, 5237, 50)\n",
      "target: (250, 1127, 5237)\n",
      "torch.Size([1127, 50])\n",
      "UA: (250, 1, 1127, 75)\n",
      "p: (250, 1, 1127)\n",
      "VA: (250, 1, 5237, 75)\n",
      "target: (250, 1127, 5237)\n",
      "torch.Size([1127, 75])\n",
      "UA: (250, 1, 1127, 100)\n",
      "p: (250, 1, 1127)\n",
      "VA: (250, 1, 5237, 100)\n",
      "target: (250, 1127, 5237)\n",
      "torch.Size([1127, 100])\n",
      "UA: (250, 1, 1127, 200)\n",
      "p: (250, 1, 1127)\n",
      "VA: (250, 1, 5237, 200)\n",
      "target: (250, 1127, 5237)\n",
      "torch.Size([1127, 200])\n",
      "UA: (250, 1, 1127, 250)\n",
      "p: (250, 1, 1127)\n",
      "VA: (250, 1, 5237, 250)\n",
      "target: (250, 1127, 5237)\n",
      "torch.Size([1127, 250])\n"
     ]
    }
   ],
   "source": [
    "with open('data_train.pickle', 'rb') as handle:\n",
    "    data2 = pickle.load(handle)\n",
    "print(data2.shape)\n",
    "\n",
    "nan_mask = np.isnan(data2) #when calculating the train/test set to \"nan\" all the examples that are for testing so that you do not train on them \n",
    "\n",
    "\n",
    "def predictive_score_for_diim_estimation(data_all, train, classname):\n",
    "    score=[]\n",
    "    for d in [1,5,10,20,50,75,100,200,250]:\n",
    "        nan_mask = np.isnan(train) #when calculating the train/test set to \"nan\" all the examples that are for testing so that you do not train on them \n",
    "        test = classname(data_all,train, d)  \n",
    "        pyro.clear_param_store()\n",
    "        test.train_SVI(data_all , ~torch.from_numpy(nan_mask), verbose = False)\n",
    "        test.sample_predict(250)\n",
    "        score.append(test.predictive_score(data_all,  torch.from_numpy(nan_mask)))\n",
    "    return score\n",
    "\n",
    "s = predictive_score_for_diim_estimation(data,data2, PMF_zero_inflated_poisson)"
   ]
  },
  {
   "cell_type": "code",
   "execution_count": 6,
   "metadata": {},
   "outputs": [
    {
     "data": {
      "image/png": "[encoded data removed]",
      "text/plain": [
       "<Figure size 720x360 with 1 Axes>"
      ]
     },
     "metadata": {
      "needs_background": "light"
     },
     "output_type": "display_data"
    }
   ],
   "source": [
    "d = [1,5,10,20,50,75,100,200,250]\n",
    "plt.figure(figsize=(10, 5))\n",
    "plt.plot(d, s)\n",
    "plt.title(\"Value of the Log Predictive For different #dimensions\")\n",
    "plt.savefig(\"predictive_score_zip.png\")\n",
    "plt.show()\n",
    "pyro.clear_param_store()"
   ]
  },
  {
   "cell_type": "code",
   "execution_count": 7,
   "metadata": {},
   "outputs": [
    {
     "name": "stdout",
     "output_type": "stream",
     "text": [
      "(1127, 5237)\n",
      "Elbo loss: 221666868.453125\n",
      "Elbo loss: 59250328.185562134\n",
      "Elbo loss: 37646607.346191406\n",
      "Elbo loss: 30770784.318359375\n",
      "Elbo loss: 28670600.4173584\n",
      "Elbo loss: 27571284.463928223\n",
      "Elbo loss: 26003601.450042725\n",
      "Elbo loss: 23788599.595581055\n",
      "Elbo loss: 22018007.347808838\n",
      "Elbo loss: 20487981.767822266\n",
      "Elbo loss: 19865319.968414307\n",
      "Elbo loss: 19096413.515777588\n",
      "Elbo loss: 18682754.693725586\n",
      "Elbo loss: 18200229.318969727\n",
      "Elbo loss: 17868067.771209717\n",
      "Elbo loss: 17812500.239440918\n",
      "Elbo loss: 17643969.616836548\n",
      "Elbo loss: 17328857.071166992\n",
      "Elbo loss: 17117809.5881958\n",
      "Elbo loss: 16930647.45059204\n",
      "Elbo loss: 17175470.006835938\n",
      "Elbo loss: 16922550.02307129\n",
      "Elbo loss: 16993645.88821411\n",
      "Elbo loss: 16615313.688903809\n",
      "Elbo loss: 16645353.967941284\n",
      "Elbo loss: 16246482.021514893\n",
      "Elbo loss: 16489908.082214355\n",
      "Elbo loss: 16365661.2366333\n",
      "Elbo loss: 16397071.462554932\n",
      "Elbo loss: 16368568.321868896\n",
      "Elbo loss: 16331217.35194397\n",
      "Elbo loss: 16101816.873153687\n",
      "Elbo loss: 16468280.772460938\n",
      "Elbo loss: 16099465.722290039\n",
      "Elbo loss: 16118231.150985718\n",
      "Elbo loss: 16143794.303619385\n",
      "Elbo loss: 15950933.145935059\n",
      "Elbo loss: 16049399.080047607\n",
      "Elbo loss: 16023203.89855957\n",
      "Elbo loss: 15881761.026168823\n",
      "Elbo loss: 15861687.18925476\n",
      "Elbo loss: 15722493.23274231\n",
      "Elbo loss: 15997830.619934082\n",
      "Elbo loss: 15930918.619003296\n",
      "Elbo loss: 15898375.45097351\n",
      "Elbo loss: 15688856.486251831\n",
      "Elbo loss: 15628399.76298523\n",
      "Elbo loss: 15985608.30593872\n",
      "Elbo loss: 15764337.758270264\n",
      "Elbo loss: 15611680.116668701\n"
     ]
    }
   ],
   "source": [
    "pyro.clear_param_store()\n",
    "with open('data_train.pickle', 'rb') as handle:\n",
    "    data2 = pickle.load(handle)\n",
    "print(data2.shape)\n",
    "\n",
    "nan_mask = np.isnan(data2) \n",
    "nan_mask = np.isnan(data2) #when calculating the train/test set to \"nan\" all the examples that are for testing so that you do not train on them \n",
    "test = PMF_zero_inflated_poisson(data,data2,50)\n",
    "l = test.train_SVI(data, ~torch.from_numpy(nan_mask))\n",
    "\n"
   ]
  },
  {
   "cell_type": "code",
   "execution_count": 13,
   "metadata": {},
   "outputs": [
    {
     "name": "stdout",
     "output_type": "stream",
     "text": [
      "Elbo loss: 15661433.694000244\n",
      "Elbo loss: 15940501.287765503\n",
      "Elbo loss: 15783971.491577148\n",
      "Elbo loss: 15669455.437561035\n",
      "Elbo loss: 15875942.895736694\n",
      "Elbo loss: 15674057.493301392\n",
      "Elbo loss: 15657183.04586792\n",
      "Elbo loss: 15596108.528396606\n",
      "Elbo loss: 15435113.207389832\n",
      "Elbo loss: 15601025.005737305\n",
      "Elbo loss: 15769058.660995483\n",
      "Elbo loss: 15490577.7033844\n",
      "Elbo loss: 15207305.816375732\n",
      "Elbo loss: 15384983.156326294\n",
      "Elbo loss: 15708132.477111816\n",
      "Elbo loss: 15415834.090042114\n",
      "Elbo loss: 15679070.753387451\n",
      "Elbo loss: 15403396.94090271\n",
      "Elbo loss: 15463671.351348877\n",
      "Elbo loss: 15520119.427062988\n",
      "Elbo loss: 15557431.86694336\n",
      "Elbo loss: 15354197.994247437\n",
      "Elbo loss: 15465424.447860718\n",
      "Elbo loss: 15598246.803482056\n",
      "Elbo loss: 15471253.238616943\n",
      "Elbo loss: 15471011.880371094\n",
      "Elbo loss: 15332394.122879028\n",
      "Elbo loss: 15367384.364303589\n",
      "Elbo loss: 15240450.338897705\n",
      "Elbo loss: 15615864.015655518\n",
      "Elbo loss: 15201506.529815674\n",
      "Elbo loss: 15484390.582244873\n",
      "Elbo loss: 15447550.930343628\n",
      "Elbo loss: 15480914.636627197\n",
      "Elbo loss: 15111607.88847351\n",
      "Elbo loss: 15275620.634925842\n",
      "Elbo loss: 14966551.8538208\n",
      "Elbo loss: 15329231.076019287\n",
      "Elbo loss: 15405208.524795532\n",
      "Elbo loss: 15063000.392807007\n",
      "Elbo loss: 15643272.261016846\n",
      "Elbo loss: 15176176.746871948\n",
      "Elbo loss: 15275189.190093994\n",
      "Elbo loss: 15400154.604919434\n",
      "Elbo loss: 15619002.677871704\n",
      "Elbo loss: 15479110.60432434\n",
      "Elbo loss: 15024929.0185318\n",
      "Elbo loss: 15495144.203079224\n",
      "Elbo loss: 15120657.308166504\n",
      "Elbo loss: 15280327.35786438\n"
     ]
    }
   ],
   "source": [
    "l = test.train_SVI(data, ~torch.from_numpy(nan_mask))"
   ]
  },
  {
   "cell_type": "code",
   "execution_count": 14,
   "metadata": {},
   "outputs": [
    {
     "name": "stdout",
     "output_type": "stream",
     "text": [
      "UA: (300, 1, 1127, 50)\n",
      "p: (300, 1, 1127)\n",
      "VA: (300, 1, 5237, 50)\n",
      "target: (300, 1127, 5237)\n"
     ]
    }
   ],
   "source": [
    "test.sample_predict(300)"
   ]
  },
  {
   "cell_type": "code",
   "execution_count": 15,
   "metadata": {},
   "outputs": [
    {
     "name": "stdout",
     "output_type": "stream",
     "text": [
      "PMF  RMSE:  0.3554934205342255\n",
      "AUC: 0.81340\n",
      "PMF  RMSE:  0.3557001192400917\n",
      "AUC: 0.81339\n"
     ]
    },
    {
     "data": {
      "text/plain": [
       "(0.3557001192400917, 0.8133921402557095)"
      ]
     },
     "execution_count": 15,
     "metadata": {},
     "output_type": "execute_result"
    }
   ],
   "source": [
    "nan_mask = np.isnan(data2)\n",
    "#test rmse\n",
    "test.rmse(data, nan_mask,1)\n",
    "#train rmse\n",
    "test.rmse(data, ~nan_mask,1)"
   ]
  },
  {
   "cell_type": "code",
   "execution_count": 16,
   "metadata": {},
   "outputs": [
    {
     "name": "stdout",
     "output_type": "stream",
     "text": [
      "PMF  RMSE:  0.2935781208202841\n",
      "AUC: 0.50000\n",
      "PMF  RMSE:  0.29386885556227027\n",
      "AUC: 0.50000\n"
     ]
    },
    {
     "data": {
      "text/plain": [
       "(0.29386885556227027, 0.5)"
      ]
     },
     "execution_count": 16,
     "metadata": {},
     "output_type": "execute_result"
    }
   ],
   "source": [
    "#test rmse\n",
    "test.rmse(data, nan_mask,4)\n",
    "#train rmse\n",
    "test.rmse(data, ~nan_mask,4)"
   ]
  },
  {
   "cell_type": "code",
   "execution_count": 17,
   "metadata": {},
   "outputs": [],
   "source": [
    "Simple_PMF ={}\n",
    "Simple_PMF['losses'] = s\n",
    "Simple_PMF['predictive_score'] = d\n",
    "Simple_PMF['train_rmse'] = 0.3554\n",
    "Simple_PMF['test_rmse'] = 0.3557\n",
    "Simple_PMF['AUC'] = 0.8340\n",
    "Simple_PMF['train_rmse_3'] = 0.2935\n",
    "Simple_PMF['test_rmse_3'] = 0.2938\n",
    "Simple_PMF['predictions'] = test.get_predictions()\n",
    "with open('SVI_zero_inflated_poisson', 'wb') as handle:\n",
    "    pickle.dump(Simple_PMF, handle, protocol=pickle.HIGHEST_PROTOCOL)\n"
   ]
  }
 ],
 "metadata": {
  "kernelspec": {
   "display_name": "Python 3.8.9 64-bit",
   "language": "python",
   "name": "python3"
  },
  "language_info": {
   "codemirror_mode": {
    "name": "ipython",
    "version": 3
   },
   "file_extension": ".py",
   "mimetype": "text/x-python",
   "name": "python",
   "nbconvert_exporter": "python",
   "pygments_lexer": "ipython3",
   "version": "3.8.9"
  },
  "orig_nbformat": 4,
  "vscode": {
   "interpreter": {
    "hash": "31f2aee4e71d21fbe5cf8b01ff0e069b9275f58929596ceb00d14d90e3e16cd6"
   }
  }
 },
 "nbformat": 4,
 "nbformat_minor": 2
}
