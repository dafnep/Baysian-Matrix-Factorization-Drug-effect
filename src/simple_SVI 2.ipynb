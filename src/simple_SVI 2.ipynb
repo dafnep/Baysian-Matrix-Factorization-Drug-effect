{
 "cells": [
  {
   "cell_type": "code",
   "execution_count": 1,
   "metadata": {},
   "outputs": [],
   "source": [
    "import logging\n",
    "\n",
    "import pickle\n",
    "\n",
    "import torch\n",
    "import matplotlib.pyplot as plt\n",
    "import numpy as np\n",
    "import pandas as pd\n",
    "import seaborn as sns\n",
    "from torch.distributions import constraints\n",
    "from torch import nn\n",
    "import pyro\n",
    "import pyro.distributions as dist\n",
    "import pyro.optim as optim\n",
    "from pyro.infer import SVI, Trace_ELBO\n",
    "from pyro.optim import Adam\n",
    "from pyro.infer import Predictive\n",
    "import seaborn as sns\n",
    "from pyro import poutine\n",
    "from sklearn import metrics"
   ]
  },
  {
   "cell_type": "code",
   "execution_count": 2,
   "metadata": {},
   "outputs": [],
   "source": [
    "pyro.set_rng_seed(10)"
   ]
  },
  {
   "cell_type": "code",
   "execution_count": 3,
   "metadata": {},
   "outputs": [],
   "source": [
    "class PMF(nn.Module):\n",
    "    # by default our latent space is 50-dimensional\n",
    "    # and we use 400 hidden units\n",
    "    def __init__(self, data, train, dim):\n",
    "        super().__init__()\n",
    "        \"\"\"Build the Probabilistic Matrix Factorization model using pymc3.\n",
    "\n",
    "\n",
    "\n",
    "        \"\"\"\n",
    "        self.dim = dim   \n",
    "        self.data = data.copy()\n",
    "        self.n, self.m = self.data.shape\n",
    "        self.map = None\n",
    "        self.bounds = (0,1)\n",
    "        self.losses = None\n",
    "        self.predictions = None\n",
    "        self.returned = None\n",
    "        self.predictive_svi = None\n",
    "\n",
    "\n",
    "        # Perform mean value imputation\n",
    "    \n",
    "        \n",
    "        # Low precision reflects uncertainty; prevents overfitting.\n",
    "        # Set to the mean variance across users and items.\n",
    "        self.alpha_u = (np.mean(self.data, axis=1).mean())**2 / np.std(self.data, axis=1).mean()\n",
    "        self.alpha_v = (np.mean(self.data, axis=0).mean())**2 / np.std(self.data, axis=0).mean()\n",
    "        \n",
    "        self.beta_u = (np.mean(self.data, axis=1).mean()) / np.std(self.data, axis=1).mean()\n",
    "        self.beta_v = (np.mean(self.data, axis=0).mean()) / np.std(self.data, axis=0).mean()\n",
    "        self.bias = self.data.mean()\n",
    "\n",
    "\n",
    "    def model(self, train, mask):\n",
    "     \n",
    "\n",
    "        drug_plate = pyro.plate(\"drug_latents\", self.n, dim= -1) #independent users\n",
    "        sideeffect_plate = pyro.plate(\"sideeffect_latents\", self.m, dim= -1) #independent items\n",
    "\n",
    "        with drug_plate: \n",
    "            UA = pyro.sample(\"UA\", dist.Gamma(self.alpha_u, self.beta_u).expand([self.dim]).to_event(1))\n",
    "            #UA_int = pyro.sample(\"UAint\", dist.Normal(0., 1.))\n",
    "        \n",
    "        with sideeffect_plate:\n",
    "            VA = pyro.sample(\"VA\", dist.Gamma(self.alpha_v, self.beta_v).expand([self.dim]).to_event(1))\n",
    "            #possibly add intercepts VA_int = pyro.sample(\"VA\", dist.Normal(0., 1.).to_event(1))\n",
    "       \n",
    "        u2_plate = pyro.plate(\"u2_plate\", self.n, dim=-2)\n",
    "\n",
    "        with sideeffect_plate, u2_plate: \n",
    "            with pyro.poutine.mask(mask=mask):\n",
    "             Y = pyro.sample(\"target\", dist.Poisson(UA@VA.T), obs=train ) \n",
    "             return Y\n",
    "        \n",
    "\n",
    "    def guide(self, train=None, mask=None):\n",
    "\n",
    "        d_alpha = pyro.param('d_alpha', torch.ones(self.n,self.dim), constraint=constraints.positive)#*self.user_mean)\n",
    "        d_beta = pyro.param('d_beta', 0.5*torch.ones(self.n,self.dim), constraint=constraints.positive)\n",
    "       # int_mean = pyro.param('int_mean', torch.tensor(1.)*self.user_mean)\n",
    "       # mov_cov = pyro.param('mov_cov', torch.tensor(1.)*0.1,\n",
    "          #                  constraint=constraints.positive)\n",
    "\n",
    "        s_alpha = pyro.param('s_alpha', torch.ones(self.m,self.dim), constraint=constraints.positive)#*self.item_mean)\n",
    "        s_beta = pyro.param('s_beta', 0.5*torch.ones(self.m,self.dim), constraint=constraints.positive)\n",
    "        drug_plate = pyro.plate(\"drug_latents\", self.n, dim= -1) #independent users\n",
    "        sideeffect_plate = pyro.plate(\"sideeffect_latents\", self.m, dim= -1) #independent items\n",
    "\n",
    "        with drug_plate: \n",
    "            UA = pyro.sample(\"UA\", dist.Gamma(d_alpha, d_beta).to_event(1))\n",
    "           # UA_int = pyro.sample(\"UAint\", dist.Normal(int_mean, mov_cov).to_event(1))\n",
    "        with sideeffect_plate: \n",
    "            VA = pyro.sample(\"VA\", dist.Gamma(s_alpha, s_beta).to_event(1))\n",
    "    \n",
    "    def train_SVI(self,train,mask, nsteps=500, lr = 0.05, lrd = 1, verbose=True):\n",
    "        logging.basicConfig(format='%(message)s', level=logging.INFO)\n",
    "        svi = SVI(self.model,\n",
    "        self.guide,\n",
    "        optim.ClippedAdam({\"lr\": lr, \"lrd\": lrd}),\n",
    "        loss=Trace_ELBO())\n",
    "        losses = []\n",
    "        for step in range(nsteps):\n",
    "            elbo = svi.step(torch.from_numpy(train).float(), mask)\n",
    "            losses.append(elbo)\n",
    "            if(verbose):\n",
    "                if step % 10 == 0:\n",
    "                    print(\"Elbo loss: {}\".format(elbo))\n",
    "        self.losses = losses\n",
    "        #constrained_params = list(pyro.get_param_store().values())\n",
    "        #PARAMS = [p.unconstrained() for p in constrained_params]\n",
    "        #print(PARAMS)\n",
    "        return losses\n",
    "    \n",
    "    def sample_predict(self, nsamples=500 , verbose=True):\n",
    "        unmasked =torch.ones((self.n,self.m), dtype=torch.bool)\n",
    "        predictive_svi = Predictive(self.model, guide=self.guide, num_samples=nsamples)(None , unmasked)\n",
    "        if (verbose):\n",
    "            for k, v in predictive_svi.items():\n",
    "                print(f\"{k}: {tuple(v.shape)}\")\n",
    "        table = predictive_svi[\"target\"].numpy()\n",
    "        self.predictive_svi = predictive_svi\n",
    "        #print(table)\n",
    "        self.returned = table\n",
    "        mc_table = table.mean(axis = 0)\n",
    "        mc_table_std = table.std(axis = 0)\n",
    "     \n",
    "        self.predictions = mc_table\n",
    "\n",
    "    def predictive_score(self,test,masked):\n",
    "        # total = test.shape[0]*test.shape[1]\n",
    "        \n",
    "        UA =  self.predictive_svi[\"UA\"]\n",
    "        VA = self.predictive_svi[\"VA\"]\n",
    "        VA = VA.mean(axis=0).reshape(self.m,self.dim)\n",
    "        UA = UA.mean(axis=0).reshape(self.n,self.dim)\n",
    "        print(UA.shape)\n",
    "        score = dist.Poisson(UA@VA.T).log_prob(torch.from_numpy(test))\n",
    "        mean_score = (score*masked).reshape(-1).logsumexp(-1) -np.log(test.shape[0]*test.shape[1])\n",
    "        return mean_score\n",
    "        \n",
    "    \n",
    "    def rmse(self,test,masked,h):\n",
    "        low, high = self.bounds\n",
    "        test_data = test.copy()\n",
    "        test_data[test_data < h] = low\n",
    "        test_data[test_data >= h] = high\n",
    "        size = masked.sum()\n",
    "        predictions = self.predictions\n",
    "        predictions[predictions < h] = low\n",
    "        predictions[predictions >= h] = high\n",
    "        sqerror = abs(test_data[masked] - predictions[masked]) ** 2  # squared error array\n",
    "        mse = sqerror.sum()/size\n",
    "        print(\"PMF  RMSE: \" , np.sqrt(mse))\n",
    "        fpr, tpr, thresholds = metrics.roc_curve(test_data[masked].astype(int).flatten(),  predictions[masked].astype(int).flatten(), pos_label=1)\n",
    "        metrics.auc(fpr, tpr)\n",
    "        print(\"AUC: %.5f\" % metrics.auc(fpr, tpr))\n",
    "        return np.sqrt(mse) , metrics.auc(fpr, tpr)\n",
    "\n",
    "    def get_predictions(self):\n",
    "        return (self.returned,self.predictions)\n",
    "\n",
    "    def get_predictive_svi(self):\n",
    "         return (self.predictive_svi)\n",
    "\n",
    "    \n",
    "   \n",
    "       "
   ]
  },
  {
   "cell_type": "code",
   "execution_count": 4,
   "metadata": {},
   "outputs": [
    {
     "name": "stdout",
     "output_type": "stream",
     "text": [
      "(1127, 5237)\n",
      "(1127, 5237)\n"
     ]
    }
   ],
   "source": [
    "\n",
    "with open('data_all.pickle', 'rb') as handle:\n",
    "    data = pickle.load(handle)\n",
    "print(data.shape)\n",
    "\n",
    "with open('data_train.pickle', 'rb') as handle:\n",
    "    data2 = pickle.load(handle)\n",
    "print(data2.shape)\n",
    "\n",
    "nan_mask = np.isnan(data2)\n"
   ]
  },
  {
   "cell_type": "code",
   "execution_count": 5,
   "metadata": {},
   "outputs": [
    {
     "name": "stdout",
     "output_type": "stream",
     "text": [
      "UA: (250, 1, 1127, 1)\n",
      "VA: (250, 1, 5237, 1)\n",
      "target: (250, 1127, 5237)\n",
      "torch.Size([1127, 1])\n",
      "UA: (250, 1, 1127, 5)\n",
      "VA: (250, 1, 5237, 5)\n",
      "target: (250, 1127, 5237)\n",
      "torch.Size([1127, 5])\n",
      "UA: (250, 1, 1127, 10)\n",
      "VA: (250, 1, 5237, 10)\n",
      "target: (250, 1127, 5237)\n",
      "torch.Size([1127, 10])\n",
      "UA: (250, 1, 1127, 20)\n",
      "VA: (250, 1, 5237, 20)\n",
      "target: (250, 1127, 5237)\n",
      "torch.Size([1127, 20])\n",
      "UA: (250, 1, 1127, 50)\n",
      "VA: (250, 1, 5237, 50)\n",
      "target: (250, 1127, 5237)\n",
      "torch.Size([1127, 50])\n",
      "UA: (250, 1, 1127, 75)\n",
      "VA: (250, 1, 5237, 75)\n",
      "target: (250, 1127, 5237)\n",
      "torch.Size([1127, 75])\n",
      "UA: (250, 1, 1127, 100)\n",
      "VA: (250, 1, 5237, 100)\n",
      "target: (250, 1127, 5237)\n",
      "torch.Size([1127, 100])\n",
      "UA: (250, 1, 1127, 200)\n",
      "VA: (250, 1, 5237, 200)\n",
      "target: (250, 1127, 5237)\n",
      "torch.Size([1127, 200])\n",
      "UA: (250, 1, 1127, 250)\n",
      "VA: (250, 1, 5237, 250)\n",
      "target: (250, 1127, 5237)\n",
      "torch.Size([1127, 250])\n"
     ]
    }
   ],
   "source": [
    "\n",
    "def predictive_score_for_diim_estimation(data_all, train, classname):\n",
    "    score=[]\n",
    "    for d in [1,5,10,20,50,75,100,200,250]:\n",
    "        nan_mask = np.isnan(train) #when calculating the train/test set to \"nan\" all the examples that are for testing so that you do not train on them \n",
    "        test = classname(data_all,train, d)  \n",
    "        pyro.clear_param_store()\n",
    "        test.train_SVI(data_all , ~torch.from_numpy(nan_mask),nsteps=250, verbose = False)\n",
    "        test.sample_predict(250)\n",
    "        score.append(test.predictive_score(data_all,  torch.from_numpy(nan_mask)))\n",
    "    return score\n",
    "\n",
    "s = predictive_score_for_diim_estimation(data,data2, PMF)\n"
   ]
  },
  {
   "cell_type": "code",
   "execution_count": 6,
   "metadata": {},
   "outputs": [
    {
     "data": {
      "image/png": "[encoded data removed]",
      "text/plain": [
       "<Figure size 720x360 with 1 Axes>"
      ]
     },
     "metadata": {
      "needs_background": "light"
     },
     "output_type": "display_data"
    }
   ],
   "source": [
    "d = [1,5,10,20,50,75,100,200,250]\n",
    "plt.figure(figsize=(10, 5))\n",
    "plt.plot(d, s)\n",
    "plt.title(\"Value of the Log Predictive For different #dimensions\")\n",
    "#plt.savefig(\"predictive_score_simple.png\")\n",
    "plt.show()\n",
    "pyro.clear_param_store()"
   ]
  },
  {
   "cell_type": "code",
   "execution_count": 8,
   "metadata": {},
   "outputs": [
    {
     "name": "stdout",
     "output_type": "stream",
     "text": [
      "Elbo loss: 1050600503.171875\n",
      "Elbo loss: 168428405.90234375\n",
      "Elbo loss: 58781801.94921875\n",
      "Elbo loss: 34237314.01660156\n",
      "Elbo loss: 29974427.3828125\n",
      "Elbo loss: 28011006.5234375\n",
      "Elbo loss: 27298816.13671875\n",
      "Elbo loss: 25570212.6640625\n",
      "Elbo loss: 23489528.94921875\n",
      "Elbo loss: 21268731.0625\n",
      "Elbo loss: 19765356.4296875\n",
      "Elbo loss: 18721475.875\n",
      "Elbo loss: 18012337.1796875\n",
      "Elbo loss: 17634014.34375\n",
      "Elbo loss: 17238923.21875\n",
      "Elbo loss: 16703105.6953125\n",
      "Elbo loss: 16588499.265625\n",
      "Elbo loss: 16331343.84375\n",
      "Elbo loss: 16156457.8046875\n",
      "Elbo loss: 16134131.265625\n",
      "Elbo loss: 15870246.8125\n",
      "Elbo loss: 15751987.671875\n",
      "Elbo loss: 15788247.078125\n",
      "Elbo loss: 15689071.2578125\n",
      "Elbo loss: 15562534.64453125\n",
      "Elbo loss: 15727343.94921875\n",
      "Elbo loss: 15537864.1875\n",
      "Elbo loss: 15396067.70703125\n",
      "Elbo loss: 15236148.3203125\n",
      "Elbo loss: 15330930.765625\n",
      "Elbo loss: 15070139.84765625\n",
      "Elbo loss: 15109484.92578125\n",
      "Elbo loss: 14930512.43359375\n",
      "Elbo loss: 15133242.8515625\n",
      "Elbo loss: 15049134.98828125\n",
      "Elbo loss: 15005767.8125\n",
      "Elbo loss: 15278594.89453125\n",
      "Elbo loss: 14674456.1484375\n",
      "Elbo loss: 14766619.24609375\n",
      "Elbo loss: 15007746.77734375\n",
      "Elbo loss: 14915082.3828125\n",
      "Elbo loss: 14821051.0625\n",
      "Elbo loss: 14915290.484375\n",
      "Elbo loss: 14630620.390625\n",
      "Elbo loss: 14819132.484375\n",
      "Elbo loss: 14762050.48828125\n",
      "Elbo loss: 14920363.57421875\n",
      "Elbo loss: 14594779.40625\n",
      "Elbo loss: 14563120.921875\n",
      "Elbo loss: 14826183.6484375\n"
     ]
    }
   ],
   "source": [
    "pyro.clear_param_store()\n",
    "test = PMF(data, train=data, dim=50)\n",
    "a = test.train_SVI(data, ~torch.from_numpy(nan_mask))\n"
   ]
  },
  {
   "cell_type": "code",
   "execution_count": 9,
   "metadata": {},
   "outputs": [
    {
     "name": "stdout",
     "output_type": "stream",
     "text": [
      "Elbo loss: 14803791.31640625\n",
      "Elbo loss: 14952825.25390625\n",
      "Elbo loss: 14958995.4453125\n",
      "Elbo loss: 14669513.890625\n",
      "Elbo loss: 14363821.171875\n",
      "Elbo loss: 14558730.8984375\n",
      "Elbo loss: 14336240.4296875\n",
      "Elbo loss: 14719416.859375\n",
      "Elbo loss: 14619763.296875\n",
      "Elbo loss: 14363914.59375\n",
      "Elbo loss: 14579185.7265625\n",
      "Elbo loss: 14350771.234375\n",
      "Elbo loss: 14510087.953125\n",
      "Elbo loss: 14297841.640625\n",
      "Elbo loss: 14407110.03515625\n",
      "Elbo loss: 14336824.4765625\n",
      "Elbo loss: 14489126.4921875\n",
      "Elbo loss: 14514404.28125\n",
      "Elbo loss: 14260753.65234375\n",
      "Elbo loss: 14659074.25\n",
      "Elbo loss: 14726783.59375\n",
      "Elbo loss: 14483967.46875\n",
      "Elbo loss: 14357441.265625\n",
      "Elbo loss: 14364005.3125\n",
      "Elbo loss: 14459271.75\n",
      "Elbo loss: 14512820.37890625\n",
      "Elbo loss: 14510970.89453125\n",
      "Elbo loss: 14383517.640625\n",
      "Elbo loss: 14091609.734375\n",
      "Elbo loss: 14273885.248046875\n",
      "Elbo loss: 14255741.662109375\n",
      "Elbo loss: 14390470.0859375\n",
      "Elbo loss: 14272098.373046875\n",
      "Elbo loss: 14168874.22265625\n",
      "Elbo loss: 14300978.6328125\n",
      "Elbo loss: 14230149.978515625\n",
      "Elbo loss: 14158631.92578125\n",
      "Elbo loss: 14333339.3984375\n",
      "Elbo loss: 14125772.6640625\n",
      "Elbo loss: 13967568.6953125\n",
      "Elbo loss: 14217710.83984375\n",
      "Elbo loss: 14465015.73046875\n",
      "Elbo loss: 14182557.33984375\n",
      "Elbo loss: 13917488.169921875\n",
      "Elbo loss: 14179734.26953125\n",
      "Elbo loss: 14137750.337890625\n",
      "Elbo loss: 14147289.267578125\n",
      "Elbo loss: 14075015.552734375\n",
      "Elbo loss: 13896973.720703125\n",
      "Elbo loss: 14289634.990234375\n"
     ]
    }
   ],
   "source": [
    "b = test.train_SVI(data, ~torch.from_numpy(nan_mask))"
   ]
  },
  {
   "cell_type": "code",
   "execution_count": 6,
   "metadata": {},
   "outputs": [
    {
     "data": {
      "image/png": "[encoded data removed]",
      "text/plain": [
       "<Figure size 720x360 with 1 Axes>"
      ]
     },
     "metadata": {
      "needs_background": "light"
     },
     "output_type": "display_data"
    }
   ],
   "source": [
    "plt.figure(figsize=(10, 5))\n",
    "plt.plot(np.arange(500), again)\n",
    "plt.title(\"Elbo loss Poisson MF\")\n",
    "#plt.savefig(\"elbo_loss_simple_svi.png\")\n",
    "plt.show()\n",
    "pyro.clear_param_store()"
   ]
  },
  {
   "cell_type": "code",
   "execution_count": 10,
   "metadata": {},
   "outputs": [
    {
     "name": "stdout",
     "output_type": "stream",
     "text": [
      "UA: (400, 1, 1127, 50)\n",
      "VA: (400, 1, 5237, 50)\n",
      "target: (400, 1127, 5237)\n"
     ]
    }
   ],
   "source": [
    "test.sample_predict(400)"
   ]
  },
  {
   "cell_type": "code",
   "execution_count": 11,
   "metadata": {},
   "outputs": [
    {
     "name": "stdout",
     "output_type": "stream",
     "text": [
      "PMF  RMSE:  0.35010986513971304\n",
      "AUC: 0.82786\n",
      "PMF  RMSE:  0.3412834045667203\n",
      "AUC: 0.83408\n"
     ]
    },
    {
     "data": {
      "text/plain": [
       "(0.3412834045667203, 0.8340836458187948)"
      ]
     },
     "execution_count": 11,
     "metadata": {},
     "output_type": "execute_result"
    }
   ],
   "source": [
    "#test rmse\n",
    "test.rmse(data, nan_mask,1)\n",
    "#train rmse\n",
    "test.rmse(data, ~nan_mask,1)\n"
   ]
  },
  {
   "cell_type": "code",
   "execution_count": 12,
   "metadata": {},
   "outputs": [
    {
     "name": "stdout",
     "output_type": "stream",
     "text": [
      "PMF  RMSE:  0.2935781208202841\n",
      "AUC: 0.50000\n",
      "PMF  RMSE:  0.29386885556227027\n",
      "AUC: 0.50000\n"
     ]
    },
    {
     "data": {
      "text/plain": [
       "(0.29386885556227027, 0.5)"
      ]
     },
     "execution_count": 12,
     "metadata": {},
     "output_type": "execute_result"
    }
   ],
   "source": [
    "#test rmse\n",
    "test.rmse(data, nan_mask,4)\n",
    "#train rmse\n",
    "test.rmse(data, ~nan_mask,4)\n"
   ]
  },
  {
   "cell_type": "code",
   "execution_count": 13,
   "metadata": {},
   "outputs": [],
   "source": [
    "Simple_PMF ={}\n",
    "Simple_PMF['losses'] = a\n",
    "Simple_PMF['predictive_score'] = d\n",
    "Simple_PMF['train_rmse'] = 0.35\n",
    "Simple_PMF['test_rmse'] = 0.341\n",
    "Simple_PMF['AUC'] = 0.8340\n",
    "Simple_PMF['train_rmse_3'] = 0.2935\n",
    "Simple_PMF['test_rmse_3'] = 0.2938\n",
    "Simple_PMF['predictions'] = test.get_predictions()\n",
    "with open('SVI_Simple_PMF.pickle', 'wb') as handle:\n",
    "    pickle.dump(Simple_PMF, handle, protocol=pickle.HIGHEST_PROTOCOL)\n",
    "\n"
   ]
  },
  {
   "cell_type": "code",
   "execution_count": 22,
   "metadata": {},
   "outputs": [],
   "source": [
    "class PMF_intercepts(nn.Module):\n",
    "    # by default our latent space is 50-dimensional\n",
    "    # and we use 400 hidden units\n",
    "    def __init__(self, data, train, dim):\n",
    "        super().__init__()\n",
    "        \"\"\"Build the Probabilistic Matrix Factorization model using pymc3.\n",
    "\n",
    "\n",
    "\n",
    "        \"\"\"\n",
    "        self.dim = dim   \n",
    "        self.data = data.copy()\n",
    "        self.n, self.m = self.data.shape\n",
    "        self.map = None\n",
    "        self.bounds = (0,1)\n",
    "        self.losses = None\n",
    "        self.predictions = None\n",
    "        self.predictive_svi = None\n",
    "\n",
    "\n",
    "        # Perform mean value imputation\n",
    "    \n",
    "        \n",
    "        # Low precision reflects uncertainty; prevents overfitting.\n",
    "        # Set to the mean variance across users and items.\n",
    "        self.alpha_u = (np.mean(self.data, axis=1).mean())**2 / np.std(self.data, axis=1).mean()\n",
    "        self.alpha_v = (np.mean(self.data, axis=0).mean())**2 / np.std(self.data, axis=0).mean()\n",
    "\n",
    "        self.beta_u = (np.mean(self.data, axis=1).mean()) / np.std(self.data, axis=1).mean()\n",
    "        self.beta_v = (np.mean(self.data, axis=0).mean()) / np.std(self.data, axis=0).mean()\n",
    "       \n",
    "        self.bias = self.data.mean()\n",
    "\n",
    "\n",
    "    def model(self, train,mask):\n",
    "\n",
    "        drug_plate = pyro.plate(\"drug_latents\", self.n, dim= -1) #independent users\n",
    "        sideeffect_plate = pyro.plate(\"sideeffect_latents\", self.m, dim= -1) #independent items\n",
    "\n",
    "        with drug_plate: \n",
    "            UA = pyro.sample(\"UA\", dist.Gamma(self.alpha_u, self.beta_u).expand([self.dim]).to_event(1))\n",
    "            drug_intercept = pyro.sample(\"drug_int\", dist.HalfNormal(0.5))\n",
    "            #UA_int = pyro.sample(\"UAint\", dist.Normal(0., 1.))\n",
    "        \n",
    "        with sideeffect_plate:\n",
    "            sideeffect_intercept = pyro.sample(\"sf_int\", dist.HalfNormal(0.5))\n",
    "            VA = pyro.sample(\"VA\", dist.Gamma(self.alpha_v, self.beta_v).expand([self.dim]).to_event(1))\n",
    "            #possibly add intercepts VA_int = pyro.sample(\"VA\", dist.Normal(0., 1.).to_event(1))\n",
    "       \n",
    "        u2_plate = pyro.plate(\"u2_plate\", self.n, dim=-2)\n",
    "       #with u2_plate:\n",
    "           \n",
    "            \n",
    "        with sideeffect_plate, u2_plate: \n",
    "            with pyro.poutine.mask(mask=mask):\n",
    "            #Y = pyro.sample(\"target\", dist.Poisson(UA@VA.T  +sideeffect_intercept.T), obs=train ) z[:, np.newaxis] + x\n",
    "                Y = pyro.sample(\"target\", dist.Poisson(UA@VA.T  + (drug_intercept[:, np.newaxis] + sideeffect_intercept.T)), obs=train ) \n",
    "            return Y\n",
    "        \n",
    "\n",
    "    def guide(self, train=None, mask=None):\n",
    "\n",
    "        d_alpha = pyro.param('d_alpha', torch.ones(self.n,self.dim), constraint=constraints.positive)#*self.user_mean)\n",
    "        d_beta = pyro.param('d_beta', 0.5*torch.ones(self.n,self.dim), constraint=constraints.positive)\n",
    "        \n",
    "       # int_mean = pyro.param('int_mean', torch.tensor(1.)*self.user_mean)\n",
    "       # mov_cov = pyro.param('mov_cov', torch.tensor(1.)*0.1,\n",
    "          #                  constraint=constraints.positive)\n",
    "\n",
    "        s_alpha = pyro.param('s_alpha', torch.ones(self.m,self.dim), constraint=constraints.positive)#*self.item_mean)\n",
    "        s_beta = pyro.param('s_beta', 0.5*torch.ones(self.m,self.dim), constraint=constraints.positive)\n",
    "        drug_plate = pyro.plate(\"drug_latents\", self.n, dim= -1) #independent users\n",
    "        sideeffect_plate = pyro.plate(\"sideeffect_latents\", self.m, dim= -1) #independent items\n",
    "        se_t = pyro.param(\"sef_int\", 0.25*torch.ones(self.m), constraint=constraints.positive)\n",
    "        drug_t = pyro.param(\"drug_int_p\", 0.25*torch.ones(self.n), constraint=constraints.positive)\n",
    "        u2_plate = pyro.plate(\"u2_plate\", self.n, dim=-2)\n",
    "\n",
    "       # with u2_plate:\n",
    "          #  drug_intercept = pyro.sample(\"drug_int\", dist.HalfNormal(drug_t).to_event(1))\n",
    "\n",
    "        with drug_plate: \n",
    "            UA = pyro.sample(\"UA\", dist.Gamma(d_alpha, d_beta).to_event(1))\n",
    "            UA_int = pyro.sample(\"UAint\", dist.HalfNormal(drug_t))\n",
    "        with sideeffect_plate: \n",
    "            VA = pyro.sample(\"VA\", dist.Gamma(s_alpha, s_beta).to_event(1))\n",
    "            sideeffect_intercept =  pyro.sample(\"sf_int\", dist.HalfNormal(se_t))\n",
    "    \n",
    "    def train_SVI(self,train,mask, nsteps=500, lr = 0.05, lrd = 1, verbose=True):\n",
    "        logging.basicConfig(format='%(message)s', level=logging.INFO)\n",
    "        svi = SVI(self.model,\n",
    "        self.guide,\n",
    "        optim.ClippedAdam({\"lr\": lr, \"lrd\": lrd}),\n",
    "        loss=Trace_ELBO())\n",
    "        losses = []\n",
    "        for step in range(nsteps):\n",
    "            elbo = svi.step(torch.from_numpy(train).float(), mask)\n",
    "            losses.append(elbo)\n",
    "            if(verbose):\n",
    "                if step % 10 == 0:\n",
    "                    print(\"Elbo loss: {}\".format(elbo))\n",
    "        self.losses = losses\n",
    "        #constrained_params = list(pyro.get_param_store().values())\n",
    "        #PARAMS = [p.unconstrained() for p in constrained_params]\n",
    "        #print(PARAMS)\n",
    "        return losses\n",
    "    \n",
    "    def sample_predict(self, nsamples=500 , verbose=True):\n",
    "        unmasked =torch.ones((self.n,self.m), dtype=torch.bool)\n",
    "        predictive_svi = Predictive(self.model, guide=self.guide, num_samples=nsamples)( None, unmasked)\n",
    "        if (verbose):\n",
    "            for k, v in predictive_svi.items():\n",
    "                print(f\"{k}: {tuple(v.shape)}\")\n",
    "        table = predictive_svi[\"target\"].numpy()\n",
    "        mc_table = table.mean(axis = 0)\n",
    "        mc_table_std = table.std(axis = 0)\n",
    "        self.predictive_svi = predictive_svi\n",
    "        self.predictions = mc_table\n",
    "        \n",
    "    def predictive_score(self,test,masked):\n",
    "        # total = test.shape[0]*test.shape[1]\n",
    "        \n",
    "        UA =  self.predictive_svi[\"UA\"]\n",
    "        VA = self.predictive_svi[\"VA\"]\n",
    "        drug_intercept = self.predictive_svi[\"drug_int\"].mean(axis=0).reshape(self.n)\n",
    "        sideeffect_intercept = self.predictive_svi[\"sf_int\"].mean(axis=0).reshape(self.m)\n",
    "        VA = VA.mean(axis=0).reshape(self.m,self.dim)\n",
    "        UA = UA.mean(axis=0).reshape(self.n,self.dim)\n",
    "        print(UA.shape)\n",
    "        score = dist.Poisson(UA@VA.T + (drug_intercept[:, np.newaxis] + sideeffect_intercept.T)).log_prob(torch.from_numpy(test))\n",
    "        mean_score = (score*masked).reshape(-1).logsumexp(-1) -np.log(test.shape[0]*test.shape[1])\n",
    "        return mean_score\n",
    "\n",
    "    def rmse(self,test,masked,h):\n",
    "        low, high = self.bounds\n",
    "        test_data = test.copy()\n",
    "        test_data[test_data < h] = low\n",
    "        test_data[test_data >= h] = high\n",
    "        size = masked.sum()\n",
    "        predictions = self.predictions\n",
    "        predictions[predictions < h] = low\n",
    "        predictions[predictions >= h] = high\n",
    "        sqerror = abs(test_data[masked] - predictions[masked]) ** 2  # squared error array\n",
    "        mse = sqerror.sum()/size\n",
    "        print(\"PMF  RMSE: \" , np.sqrt(mse))\n",
    "        fpr, tpr, thresholds = metrics.roc_curve(test_data[masked].astype(int).flatten(),  predictions[masked].astype(int).flatten(), pos_label=1)\n",
    "        metrics.auc(fpr, tpr)\n",
    "        print(\"AUC: %.5f\" % metrics.auc(fpr, tpr))\n",
    "        return np.sqrt(mse) , metrics.auc(fpr, tpr)\n",
    "\n",
    "    def get_predictions(self):\n",
    "        return (self.returned,self.predictions)\n",
    "\n",
    "    def get_predictive_svi(self):\n",
    "         return (self.predictive_svi)\n",
    "   \n",
    "    "
   ]
  },
  {
   "cell_type": "code",
   "execution_count": 23,
   "metadata": {},
   "outputs": [
    {
     "name": "stderr",
     "output_type": "stream",
     "text": [
      "/Users/dafnep/Library/Python/3.8/lib/python/site-packages/pyro/util.py:288: UserWarning: Found non-auxiliary vars in guide but not model, consider marking these infer={'is_auxiliary': True}:\n",
      "{'UAint'}\n",
      "  warnings.warn(\n",
      "/Users/dafnep/Library/Python/3.8/lib/python/site-packages/pyro/util.py:303: UserWarning: Found vars in model but not guide: {'drug_int'}\n",
      "  warnings.warn(f\"Found vars in model but not guide: {bad_sites}\")\n"
     ]
    },
    {
     "name": "stdout",
     "output_type": "stream",
     "text": [
      "UA: (250, 1, 1127, 1)\n",
      "drug_int: (250, 1, 1127)\n",
      "sf_int: (250, 1, 5237)\n",
      "VA: (250, 1, 5237, 1)\n",
      "target: (250, 1127, 5237)\n",
      "torch.Size([1127, 1])\n",
      "UA: (250, 1, 1127, 5)\n",
      "drug_int: (250, 1, 1127)\n",
      "sf_int: (250, 1, 5237)\n",
      "VA: (250, 1, 5237, 5)\n",
      "target: (250, 1127, 5237)\n",
      "torch.Size([1127, 5])\n",
      "UA: (250, 1, 1127, 10)\n",
      "drug_int: (250, 1, 1127)\n",
      "sf_int: (250, 1, 5237)\n",
      "VA: (250, 1, 5237, 10)\n",
      "target: (250, 1127, 5237)\n",
      "torch.Size([1127, 10])\n",
      "UA: (250, 1, 1127, 20)\n",
      "drug_int: (250, 1, 1127)\n",
      "sf_int: (250, 1, 5237)\n",
      "VA: (250, 1, 5237, 20)\n",
      "target: (250, 1127, 5237)\n",
      "torch.Size([1127, 20])\n",
      "UA: (250, 1, 1127, 50)\n",
      "drug_int: (250, 1, 1127)\n",
      "sf_int: (250, 1, 5237)\n",
      "VA: (250, 1, 5237, 50)\n",
      "target: (250, 1127, 5237)\n",
      "torch.Size([1127, 50])\n",
      "UA: (250, 1, 1127, 75)\n",
      "drug_int: (250, 1, 1127)\n",
      "sf_int: (250, 1, 5237)\n",
      "VA: (250, 1, 5237, 75)\n",
      "target: (250, 1127, 5237)\n",
      "torch.Size([1127, 75])\n",
      "UA: (250, 1, 1127, 100)\n",
      "drug_int: (250, 1, 1127)\n",
      "sf_int: (250, 1, 5237)\n",
      "VA: (250, 1, 5237, 100)\n",
      "target: (250, 1127, 5237)\n",
      "torch.Size([1127, 100])\n",
      "UA: (250, 1, 1127, 200)\n",
      "drug_int: (250, 1, 1127)\n",
      "sf_int: (250, 1, 5237)\n",
      "VA: (250, 1, 5237, 200)\n",
      "target: (250, 1127, 5237)\n",
      "torch.Size([1127, 200])\n",
      "UA: (250, 1, 1127, 250)\n",
      "drug_int: (250, 1, 1127)\n",
      "sf_int: (250, 1, 5237)\n",
      "VA: (250, 1, 5237, 250)\n",
      "target: (250, 1127, 5237)\n",
      "torch.Size([1127, 250])\n"
     ]
    }
   ],
   "source": [
    "\n",
    "def predictive_score_for_diim_estimation(data_all, train, classname):\n",
    "    score=[]\n",
    "    for d in [1,5,10,20,50,75,100,200,250]:\n",
    "        nan_mask = np.isnan(train) #when calculating the train/test set to \"nan\" all the examples that are for testing so that you do not train on them \n",
    "        test = classname(data_all,train, d)  \n",
    "        pyro.clear_param_store()\n",
    "        test.train_SVI(data_all , ~torch.from_numpy(nan_mask),nsteps=250, verbose = False)\n",
    "        test.sample_predict(250)\n",
    "        score.append(test.predictive_score(data_all,  torch.from_numpy(nan_mask)))\n",
    "    return score\n",
    "\n",
    "s = predictive_score_for_diim_estimation(data,data2, PMF_intercepts)\n"
   ]
  },
  {
   "cell_type": "code",
   "execution_count": 32,
   "metadata": {},
   "outputs": [
    {
     "data": {
      "image/png": "[encoded data removed]",
      "text/plain": [
       "<Figure size 720x360 with 1 Axes>"
      ]
     },
     "metadata": {
      "needs_background": "light"
     },
     "output_type": "display_data"
    }
   ],
   "source": [
    "d = [1,5,10,20,50,75,100,200,250]\n",
    "plt.figure(figsize=(10, 5))\n",
    "plt.plot(d, s)\n",
    "plt.title(\"Value of the Log Predictive For different #dimensions\")\n",
    "#plt.savefig(\"predictive_score_simple.png\")\n",
    "plt.show()\n",
    "pyro.clear_param_store()"
   ]
  },
  {
   "cell_type": "code",
   "execution_count": 35,
   "metadata": {},
   "outputs": [
    {
     "name": "stdout",
     "output_type": "stream",
     "text": [
      "Elbo loss: 535897643.9051666\n",
      "Elbo loss: 106266668.67115402\n",
      "Elbo loss: 46923416.74790573\n",
      "Elbo loss: 33018053.198041916\n",
      "Elbo loss: 29623132.445438385\n",
      "Elbo loss: 28305225.496932983\n",
      "Elbo loss: 27392135.265335083\n",
      "Elbo loss: 25827996.361613274\n",
      "Elbo loss: 24398085.06455612\n",
      "Elbo loss: 22838765.868917465\n",
      "Elbo loss: 21973058.362236023\n",
      "Elbo loss: 21483977.135287285\n",
      "Elbo loss: 21049870.5797987\n",
      "Elbo loss: 20595638.777591705\n",
      "Elbo loss: 20447814.031578064\n",
      "Elbo loss: 20124147.40799904\n",
      "Elbo loss: 20194609.610042572\n",
      "Elbo loss: 19995869.338329315\n",
      "Elbo loss: 19528904.035816193\n",
      "Elbo loss: 19188491.97726059\n",
      "Elbo loss: 19498260.293132782\n",
      "Elbo loss: 19352303.830368042\n",
      "Elbo loss: 19566615.492076874\n",
      "Elbo loss: 19138287.57461548\n",
      "Elbo loss: 19126688.086787224\n",
      "Elbo loss: 19438389.62813568\n",
      "Elbo loss: 18997551.598622322\n",
      "Elbo loss: 19038562.672337532\n",
      "Elbo loss: 18848205.457401276\n",
      "Elbo loss: 18693746.337495804\n",
      "Elbo loss: 19151756.279880524\n",
      "Elbo loss: 18712068.833515167\n",
      "Elbo loss: 18621982.266817093\n",
      "Elbo loss: 18429849.168266296\n",
      "Elbo loss: 18677131.870182037\n",
      "Elbo loss: 18394911.80023575\n",
      "Elbo loss: 18402174.333036423\n",
      "Elbo loss: 18595113.998207092\n",
      "Elbo loss: 18361779.968099594\n",
      "Elbo loss: 18425042.01161194\n",
      "Elbo loss: 18198994.008094788\n",
      "Elbo loss: 18310823.048431396\n",
      "Elbo loss: 18305500.34784603\n",
      "Elbo loss: 18662748.79701996\n",
      "Elbo loss: 18531786.950202942\n",
      "Elbo loss: 18343844.260562897\n",
      "Elbo loss: 18560407.18854904\n",
      "Elbo loss: 18142902.09197426\n",
      "Elbo loss: 18395949.841766357\n",
      "Elbo loss: 18735906.24477768\n"
     ]
    }
   ],
   "source": [
    "pyro.clear_param_store()\n",
    "\n",
    "test2 =  PMF_intercepts(data, train=data, dim=25)\n",
    "a = test2.train_SVI(data, ~torch.from_numpy(nan_mask)) \n",
    "\n"
   ]
  },
  {
   "cell_type": "code",
   "execution_count": 34,
   "metadata": {},
   "outputs": [
    {
     "name": "stdout",
     "output_type": "stream",
     "text": [
      "Elbo loss: 19384790.55083847\n",
      "Elbo loss: 20010197.01184082\n",
      "Elbo loss: 19392034.979450226\n",
      "Elbo loss: 19187731.41849518\n",
      "Elbo loss: 19485263.09552765\n",
      "Elbo loss: 19347332.350975037\n",
      "Elbo loss: 19198893.50935173\n",
      "Elbo loss: 19301875.003372192\n"
     ]
    },
    {
     "ename": "ValueError",
     "evalue": "Error while computing score_parts at site 'UAint':\nExpected value argument (Tensor of shape (1127,)) to be within the support (GreaterThan(lower_bound=0.0)) of the distribution HalfNormal(), but found invalid values:\ntensor([2.9239e+11, 1.7663e+11, 3.7070e+11,  ..., 3.3300e+11, 9.9529e+11,\n        3.4251e+11], grad_fn=<AbsBackward0>)\nTrace Shapes:             \n Param Sites:             \n      d_alpha 1127   20   \n       d_beta 1127   20   \n      s_alpha 5237   20   \n       s_beta 5237   20   \n      sef_int      5237   \n   drug_int_p      1127   \nSample Sites:             \n      UA dist 1127    | 20\n        value 1127    | 20\n     log_prob 1127    |   \n   UAint dist 1127    |   \n        value 1127    |   ",
     "output_type": "error",
     "traceback": [
      "\u001b[0;31m---------------------------------------------------------------------------\u001b[0m",
      "\u001b[0;31mValueError\u001b[0m                                Traceback (most recent call last)",
      "File \u001b[0;32m~/Library/Python/3.8/lib/python/site-packages/pyro/poutine/trace_struct.py:268\u001b[0m, in \u001b[0;36mTrace.compute_score_parts\u001b[0;34m(self)\u001b[0m\n\u001b[1;32m    267\u001b[0m \u001b[39mtry\u001b[39;00m:\n\u001b[0;32m--> 268\u001b[0m     value \u001b[39m=\u001b[39m site[\u001b[39m\"\u001b[39;49m\u001b[39mfn\u001b[39;49m\u001b[39m\"\u001b[39;49m]\u001b[39m.\u001b[39;49mscore_parts(\n\u001b[1;32m    269\u001b[0m         site[\u001b[39m\"\u001b[39;49m\u001b[39mvalue\u001b[39;49m\u001b[39m\"\u001b[39;49m], \u001b[39m*\u001b[39;49msite[\u001b[39m\"\u001b[39;49m\u001b[39margs\u001b[39;49m\u001b[39m\"\u001b[39;49m], \u001b[39m*\u001b[39;49m\u001b[39m*\u001b[39;49msite[\u001b[39m\"\u001b[39;49m\u001b[39mkwargs\u001b[39;49m\u001b[39m\"\u001b[39;49m]\n\u001b[1;32m    270\u001b[0m     )\n\u001b[1;32m    271\u001b[0m \u001b[39mexcept\u001b[39;00m \u001b[39mValueError\u001b[39;00m \u001b[39mas\u001b[39;00m e:\n",
      "File \u001b[0;32m~/Library/Python/3.8/lib/python/site-packages/pyro/distributions/distribution.py:111\u001b[0m, in \u001b[0;36mDistribution.score_parts\u001b[0;34m(self, x, *args, **kwargs)\u001b[0m\n\u001b[1;32m     95\u001b[0m \u001b[39m\"\"\"\u001b[39;00m\n\u001b[1;32m     96\u001b[0m \u001b[39mComputes ingredients for stochastic gradient estimators of ELBO.\u001b[39;00m\n\u001b[1;32m     97\u001b[0m \n\u001b[0;32m   (...)\u001b[0m\n\u001b[1;32m    109\u001b[0m \u001b[39m:rtype: ScoreParts\u001b[39;00m\n\u001b[1;32m    110\u001b[0m \u001b[39m\"\"\"\u001b[39;00m\n\u001b[0;32m--> 111\u001b[0m log_prob \u001b[39m=\u001b[39m \u001b[39mself\u001b[39;49m\u001b[39m.\u001b[39;49mlog_prob(x, \u001b[39m*\u001b[39;49margs, \u001b[39m*\u001b[39;49m\u001b[39m*\u001b[39;49mkwargs)\n\u001b[1;32m    112\u001b[0m \u001b[39mif\u001b[39;00m \u001b[39mself\u001b[39m\u001b[39m.\u001b[39mhas_rsample:\n",
      "File \u001b[0;32m~/Library/Python/3.8/lib/python/site-packages/torch/distributions/half_normal.py:53\u001b[0m, in \u001b[0;36mHalfNormal.log_prob\u001b[0;34m(self, value)\u001b[0m\n\u001b[1;32m     52\u001b[0m \u001b[39mif\u001b[39;00m \u001b[39mself\u001b[39m\u001b[39m.\u001b[39m_validate_args:\n\u001b[0;32m---> 53\u001b[0m     \u001b[39mself\u001b[39;49m\u001b[39m.\u001b[39;49m_validate_sample(value)\n\u001b[1;32m     54\u001b[0m log_prob \u001b[39m=\u001b[39m \u001b[39mself\u001b[39m\u001b[39m.\u001b[39mbase_dist\u001b[39m.\u001b[39mlog_prob(value) \u001b[39m+\u001b[39m math\u001b[39m.\u001b[39mlog(\u001b[39m2\u001b[39m)\n",
      "File \u001b[0;32m~/Library/Python/3.8/lib/python/site-packages/torch/distributions/distribution.py:286\u001b[0m, in \u001b[0;36mDistribution._validate_sample\u001b[0;34m(self, value)\u001b[0m\n\u001b[1;32m    285\u001b[0m \u001b[39mif\u001b[39;00m \u001b[39mnot\u001b[39;00m valid\u001b[39m.\u001b[39mall():\n\u001b[0;32m--> 286\u001b[0m     \u001b[39mraise\u001b[39;00m \u001b[39mValueError\u001b[39;00m(\n\u001b[1;32m    287\u001b[0m         \u001b[39m\"\u001b[39m\u001b[39mExpected value argument \u001b[39m\u001b[39m\"\u001b[39m\n\u001b[1;32m    288\u001b[0m         \u001b[39mf\u001b[39m\u001b[39m\"\u001b[39m\u001b[39m(\u001b[39m\u001b[39m{\u001b[39;00m\u001b[39mtype\u001b[39m(value)\u001b[39m.\u001b[39m\u001b[39m__name__\u001b[39m\u001b[39m}\u001b[39;00m\u001b[39m of shape \u001b[39m\u001b[39m{\u001b[39;00m\u001b[39mtuple\u001b[39m(value\u001b[39m.\u001b[39mshape)\u001b[39m}\u001b[39;00m\u001b[39m) \u001b[39m\u001b[39m\"\u001b[39m\n\u001b[1;32m    289\u001b[0m         \u001b[39mf\u001b[39m\u001b[39m\"\u001b[39m\u001b[39mto be within the support (\u001b[39m\u001b[39m{\u001b[39;00m\u001b[39mrepr\u001b[39m(support)\u001b[39m}\u001b[39;00m\u001b[39m) \u001b[39m\u001b[39m\"\u001b[39m\n\u001b[1;32m    290\u001b[0m         \u001b[39mf\u001b[39m\u001b[39m\"\u001b[39m\u001b[39mof the distribution \u001b[39m\u001b[39m{\u001b[39;00m\u001b[39mrepr\u001b[39m(\u001b[39mself\u001b[39m)\u001b[39m}\u001b[39;00m\u001b[39m, \u001b[39m\u001b[39m\"\u001b[39m\n\u001b[1;32m    291\u001b[0m         \u001b[39mf\u001b[39m\u001b[39m\"\u001b[39m\u001b[39mbut found invalid values:\u001b[39m\u001b[39m\\n\u001b[39;00m\u001b[39m{\u001b[39;00mvalue\u001b[39m}\u001b[39;00m\u001b[39m\"\u001b[39m\n\u001b[1;32m    292\u001b[0m     )\n",
      "\u001b[0;31mValueError\u001b[0m: Expected value argument (Tensor of shape (1127,)) to be within the support (GreaterThan(lower_bound=0.0)) of the distribution HalfNormal(), but found invalid values:\ntensor([2.9239e+11, 1.7663e+11, 3.7070e+11,  ..., 3.3300e+11, 9.9529e+11,\n        3.4251e+11], grad_fn=<AbsBackward0>)",
      "\nThe above exception was the direct cause of the following exception:\n",
      "\u001b[0;31mValueError\u001b[0m                                Traceback (most recent call last)",
      "\u001b[1;32m/Users/dafnep/Documents/GitHub/Baysian-Matrix-Factorization-Drug-effect/src/simple_SVI 2.ipynb Cell 18\u001b[0m in \u001b[0;36m<module>\u001b[0;34m\u001b[0m\n\u001b[0;32m----> <a href='vscode-notebook-cell:/Users/dafnep/Documents/GitHub/Baysian-Matrix-Factorization-Drug-effect/src/simple_SVI%202.ipynb#X34sZmlsZQ%3D%3D?line=0'>1</a>\u001b[0m b \u001b[39m=\u001b[39m test2\u001b[39m.\u001b[39;49mtrain_SVI(data, \u001b[39m~\u001b[39;49mtorch\u001b[39m.\u001b[39;49mfrom_numpy(nan_mask) , nsteps\u001b[39m=\u001b[39;49m\u001b[39m500\u001b[39;49m )\n",
      "\u001b[1;32m/Users/dafnep/Documents/GitHub/Baysian-Matrix-Factorization-Drug-effect/src/simple_SVI 2.ipynb Cell 18\u001b[0m in \u001b[0;36mPMF_intercepts.train_SVI\u001b[0;34m(self, train, mask, nsteps, lr, lrd, verbose)\u001b[0m\n\u001b[1;32m     <a href='vscode-notebook-cell:/Users/dafnep/Documents/GitHub/Baysian-Matrix-Factorization-Drug-effect/src/simple_SVI%202.ipynb#X34sZmlsZQ%3D%3D?line=93'>94</a>\u001b[0m losses \u001b[39m=\u001b[39m []\n\u001b[1;32m     <a href='vscode-notebook-cell:/Users/dafnep/Documents/GitHub/Baysian-Matrix-Factorization-Drug-effect/src/simple_SVI%202.ipynb#X34sZmlsZQ%3D%3D?line=94'>95</a>\u001b[0m \u001b[39mfor\u001b[39;00m step \u001b[39min\u001b[39;00m \u001b[39mrange\u001b[39m(nsteps):\n\u001b[0;32m---> <a href='vscode-notebook-cell:/Users/dafnep/Documents/GitHub/Baysian-Matrix-Factorization-Drug-effect/src/simple_SVI%202.ipynb#X34sZmlsZQ%3D%3D?line=95'>96</a>\u001b[0m     elbo \u001b[39m=\u001b[39m svi\u001b[39m.\u001b[39;49mstep(torch\u001b[39m.\u001b[39;49mfrom_numpy(train)\u001b[39m.\u001b[39;49mfloat(), mask)\n\u001b[1;32m     <a href='vscode-notebook-cell:/Users/dafnep/Documents/GitHub/Baysian-Matrix-Factorization-Drug-effect/src/simple_SVI%202.ipynb#X34sZmlsZQ%3D%3D?line=96'>97</a>\u001b[0m     losses\u001b[39m.\u001b[39mappend(elbo)\n\u001b[1;32m     <a href='vscode-notebook-cell:/Users/dafnep/Documents/GitHub/Baysian-Matrix-Factorization-Drug-effect/src/simple_SVI%202.ipynb#X34sZmlsZQ%3D%3D?line=97'>98</a>\u001b[0m     \u001b[39mif\u001b[39;00m(verbose):\n",
      "File \u001b[0;32m~/Library/Python/3.8/lib/python/site-packages/pyro/infer/svi.py:145\u001b[0m, in \u001b[0;36mSVI.step\u001b[0;34m(self, *args, **kwargs)\u001b[0m\n\u001b[1;32m    143\u001b[0m \u001b[39m# get loss and compute gradients\u001b[39;00m\n\u001b[1;32m    144\u001b[0m \u001b[39mwith\u001b[39;00m poutine\u001b[39m.\u001b[39mtrace(param_only\u001b[39m=\u001b[39m\u001b[39mTrue\u001b[39;00m) \u001b[39mas\u001b[39;00m param_capture:\n\u001b[0;32m--> 145\u001b[0m     loss \u001b[39m=\u001b[39m \u001b[39mself\u001b[39;49m\u001b[39m.\u001b[39;49mloss_and_grads(\u001b[39mself\u001b[39;49m\u001b[39m.\u001b[39;49mmodel, \u001b[39mself\u001b[39;49m\u001b[39m.\u001b[39;49mguide, \u001b[39m*\u001b[39;49margs, \u001b[39m*\u001b[39;49m\u001b[39m*\u001b[39;49mkwargs)\n\u001b[1;32m    147\u001b[0m params \u001b[39m=\u001b[39m \u001b[39mset\u001b[39m(\n\u001b[1;32m    148\u001b[0m     site[\u001b[39m\"\u001b[39m\u001b[39mvalue\u001b[39m\u001b[39m\"\u001b[39m]\u001b[39m.\u001b[39munconstrained() \u001b[39mfor\u001b[39;00m site \u001b[39min\u001b[39;00m param_capture\u001b[39m.\u001b[39mtrace\u001b[39m.\u001b[39mnodes\u001b[39m.\u001b[39mvalues()\n\u001b[1;32m    149\u001b[0m )\n\u001b[1;32m    151\u001b[0m \u001b[39m# actually perform gradient steps\u001b[39;00m\n\u001b[1;32m    152\u001b[0m \u001b[39m# torch.optim objects gets instantiated for any params that haven't been seen yet\u001b[39;00m\n",
      "File \u001b[0;32m~/Library/Python/3.8/lib/python/site-packages/pyro/infer/trace_elbo.py:140\u001b[0m, in \u001b[0;36mTrace_ELBO.loss_and_grads\u001b[0;34m(self, model, guide, *args, **kwargs)\u001b[0m\n\u001b[1;32m    138\u001b[0m loss \u001b[39m=\u001b[39m \u001b[39m0.0\u001b[39m\n\u001b[1;32m    139\u001b[0m \u001b[39m# grab a trace from the generator\u001b[39;00m\n\u001b[0;32m--> 140\u001b[0m \u001b[39mfor\u001b[39;00m model_trace, guide_trace \u001b[39min\u001b[39;00m \u001b[39mself\u001b[39m\u001b[39m.\u001b[39m_get_traces(model, guide, args, kwargs):\n\u001b[1;32m    141\u001b[0m     loss_particle, surrogate_loss_particle \u001b[39m=\u001b[39m \u001b[39mself\u001b[39m\u001b[39m.\u001b[39m_differentiable_loss_particle(\n\u001b[1;32m    142\u001b[0m         model_trace, guide_trace\n\u001b[1;32m    143\u001b[0m     )\n\u001b[1;32m    144\u001b[0m     loss \u001b[39m+\u001b[39m\u001b[39m=\u001b[39m loss_particle \u001b[39m/\u001b[39m \u001b[39mself\u001b[39m\u001b[39m.\u001b[39mnum_particles\n",
      "File \u001b[0;32m~/Library/Python/3.8/lib/python/site-packages/pyro/infer/elbo.py:182\u001b[0m, in \u001b[0;36mELBO._get_traces\u001b[0;34m(self, model, guide, args, kwargs)\u001b[0m\n\u001b[1;32m    180\u001b[0m \u001b[39melse\u001b[39;00m:\n\u001b[1;32m    181\u001b[0m     \u001b[39mfor\u001b[39;00m i \u001b[39min\u001b[39;00m \u001b[39mrange\u001b[39m(\u001b[39mself\u001b[39m\u001b[39m.\u001b[39mnum_particles):\n\u001b[0;32m--> 182\u001b[0m         \u001b[39myield\u001b[39;00m \u001b[39mself\u001b[39;49m\u001b[39m.\u001b[39;49m_get_trace(model, guide, args, kwargs)\n",
      "File \u001b[0;32m~/Library/Python/3.8/lib/python/site-packages/pyro/infer/trace_elbo.py:57\u001b[0m, in \u001b[0;36mTrace_ELBO._get_trace\u001b[0;34m(self, model, guide, args, kwargs)\u001b[0m\n\u001b[1;32m     52\u001b[0m \u001b[39mdef\u001b[39;00m \u001b[39m_get_trace\u001b[39m(\u001b[39mself\u001b[39m, model, guide, args, kwargs):\n\u001b[1;32m     53\u001b[0m     \u001b[39m\"\"\"\u001b[39;00m\n\u001b[1;32m     54\u001b[0m \u001b[39m    Returns a single trace from the guide, and the model that is run\u001b[39;00m\n\u001b[1;32m     55\u001b[0m \u001b[39m    against it.\u001b[39;00m\n\u001b[1;32m     56\u001b[0m \u001b[39m    \"\"\"\u001b[39;00m\n\u001b[0;32m---> 57\u001b[0m     model_trace, guide_trace \u001b[39m=\u001b[39m get_importance_trace(\n\u001b[1;32m     58\u001b[0m         \u001b[39m\"\u001b[39;49m\u001b[39mflat\u001b[39;49m\u001b[39m\"\u001b[39;49m, \u001b[39mself\u001b[39;49m\u001b[39m.\u001b[39;49mmax_plate_nesting, model, guide, args, kwargs\n\u001b[1;32m     59\u001b[0m     )\n\u001b[1;32m     60\u001b[0m     \u001b[39mif\u001b[39;00m is_validation_enabled():\n\u001b[1;32m     61\u001b[0m         check_if_enumerated(guide_trace)\n",
      "File \u001b[0;32m~/Library/Python/3.8/lib/python/site-packages/pyro/infer/enum.py:76\u001b[0m, in \u001b[0;36mget_importance_trace\u001b[0;34m(graph_type, max_plate_nesting, model, guide, args, kwargs, detach)\u001b[0m\n\u001b[1;32m     73\u001b[0m model_trace \u001b[39m=\u001b[39m prune_subsample_sites(model_trace)\n\u001b[1;32m     75\u001b[0m model_trace\u001b[39m.\u001b[39mcompute_log_prob()\n\u001b[0;32m---> 76\u001b[0m guide_trace\u001b[39m.\u001b[39;49mcompute_score_parts()\n\u001b[1;32m     77\u001b[0m \u001b[39mif\u001b[39;00m is_validation_enabled():\n\u001b[1;32m     78\u001b[0m     \u001b[39mfor\u001b[39;00m site \u001b[39min\u001b[39;00m model_trace\u001b[39m.\u001b[39mnodes\u001b[39m.\u001b[39mvalues():\n",
      "File \u001b[0;32m~/Library/Python/3.8/lib/python/site-packages/pyro/poutine/trace_struct.py:274\u001b[0m, in \u001b[0;36mTrace.compute_score_parts\u001b[0;34m(self)\u001b[0m\n\u001b[1;32m    272\u001b[0m     _, exc_value, traceback \u001b[39m=\u001b[39m sys\u001b[39m.\u001b[39mexc_info()\n\u001b[1;32m    273\u001b[0m     shapes \u001b[39m=\u001b[39m \u001b[39mself\u001b[39m\u001b[39m.\u001b[39mformat_shapes(last_site\u001b[39m=\u001b[39msite[\u001b[39m\"\u001b[39m\u001b[39mname\u001b[39m\u001b[39m\"\u001b[39m])\n\u001b[0;32m--> 274\u001b[0m     \u001b[39mraise\u001b[39;00m \u001b[39mValueError\u001b[39;00m(\n\u001b[1;32m    275\u001b[0m         \u001b[39m\"\u001b[39m\u001b[39mError while computing score_parts at site \u001b[39m\u001b[39m'\u001b[39m\u001b[39m{}\u001b[39;00m\u001b[39m'\u001b[39m\u001b[39m:\u001b[39m\u001b[39m\\n\u001b[39;00m\u001b[39m{}\u001b[39;00m\u001b[39m\\n\u001b[39;00m\u001b[39m{}\u001b[39;00m\u001b[39m\"\u001b[39m\u001b[39m.\u001b[39mformat(\n\u001b[1;32m    276\u001b[0m             name, exc_value, shapes\n\u001b[1;32m    277\u001b[0m         )\n\u001b[1;32m    278\u001b[0m     )\u001b[39m.\u001b[39mwith_traceback(traceback) \u001b[39mfrom\u001b[39;00m \u001b[39me\u001b[39;00m\n\u001b[1;32m    279\u001b[0m site[\u001b[39m\"\u001b[39m\u001b[39munscaled_log_prob\u001b[39m\u001b[39m\"\u001b[39m] \u001b[39m=\u001b[39m value\u001b[39m.\u001b[39mlog_prob\n\u001b[1;32m    280\u001b[0m value \u001b[39m=\u001b[39m value\u001b[39m.\u001b[39mscale_and_mask(site[\u001b[39m\"\u001b[39m\u001b[39mscale\u001b[39m\u001b[39m\"\u001b[39m], site[\u001b[39m\"\u001b[39m\u001b[39mmask\u001b[39m\u001b[39m\"\u001b[39m])\n",
      "File \u001b[0;32m~/Library/Python/3.8/lib/python/site-packages/pyro/poutine/trace_struct.py:268\u001b[0m, in \u001b[0;36mTrace.compute_score_parts\u001b[0;34m(self)\u001b[0m\n\u001b[1;32m    264\u001b[0m \u001b[39mif\u001b[39;00m site[\u001b[39m\"\u001b[39m\u001b[39mtype\u001b[39m\u001b[39m\"\u001b[39m] \u001b[39m==\u001b[39m \u001b[39m\"\u001b[39m\u001b[39msample\u001b[39m\u001b[39m\"\u001b[39m \u001b[39mand\u001b[39;00m \u001b[39m\"\u001b[39m\u001b[39mscore_parts\u001b[39m\u001b[39m\"\u001b[39m \u001b[39mnot\u001b[39;00m \u001b[39min\u001b[39;00m site:\n\u001b[1;32m    265\u001b[0m     \u001b[39m# Note that ScoreParts overloads the multiplication operator\u001b[39;00m\n\u001b[1;32m    266\u001b[0m     \u001b[39m# to correctly scale each of its three parts.\u001b[39;00m\n\u001b[1;32m    267\u001b[0m     \u001b[39mtry\u001b[39;00m:\n\u001b[0;32m--> 268\u001b[0m         value \u001b[39m=\u001b[39m site[\u001b[39m\"\u001b[39;49m\u001b[39mfn\u001b[39;49m\u001b[39m\"\u001b[39;49m]\u001b[39m.\u001b[39;49mscore_parts(\n\u001b[1;32m    269\u001b[0m             site[\u001b[39m\"\u001b[39;49m\u001b[39mvalue\u001b[39;49m\u001b[39m\"\u001b[39;49m], \u001b[39m*\u001b[39;49msite[\u001b[39m\"\u001b[39;49m\u001b[39margs\u001b[39;49m\u001b[39m\"\u001b[39;49m], \u001b[39m*\u001b[39;49m\u001b[39m*\u001b[39;49msite[\u001b[39m\"\u001b[39;49m\u001b[39mkwargs\u001b[39;49m\u001b[39m\"\u001b[39;49m]\n\u001b[1;32m    270\u001b[0m         )\n\u001b[1;32m    271\u001b[0m     \u001b[39mexcept\u001b[39;00m \u001b[39mValueError\u001b[39;00m \u001b[39mas\u001b[39;00m e:\n\u001b[1;32m    272\u001b[0m         _, exc_value, traceback \u001b[39m=\u001b[39m sys\u001b[39m.\u001b[39mexc_info()\n",
      "File \u001b[0;32m~/Library/Python/3.8/lib/python/site-packages/pyro/distributions/distribution.py:111\u001b[0m, in \u001b[0;36mDistribution.score_parts\u001b[0;34m(self, x, *args, **kwargs)\u001b[0m\n\u001b[1;32m     94\u001b[0m \u001b[39mdef\u001b[39;00m \u001b[39mscore_parts\u001b[39m(\u001b[39mself\u001b[39m, x, \u001b[39m*\u001b[39margs, \u001b[39m*\u001b[39m\u001b[39m*\u001b[39mkwargs):\n\u001b[1;32m     95\u001b[0m     \u001b[39m\"\"\"\u001b[39;00m\n\u001b[1;32m     96\u001b[0m \u001b[39m    Computes ingredients for stochastic gradient estimators of ELBO.\u001b[39;00m\n\u001b[1;32m     97\u001b[0m \n\u001b[0;32m   (...)\u001b[0m\n\u001b[1;32m    109\u001b[0m \u001b[39m    :rtype: ScoreParts\u001b[39;00m\n\u001b[1;32m    110\u001b[0m \u001b[39m    \"\"\"\u001b[39;00m\n\u001b[0;32m--> 111\u001b[0m     log_prob \u001b[39m=\u001b[39m \u001b[39mself\u001b[39;49m\u001b[39m.\u001b[39;49mlog_prob(x, \u001b[39m*\u001b[39;49margs, \u001b[39m*\u001b[39;49m\u001b[39m*\u001b[39;49mkwargs)\n\u001b[1;32m    112\u001b[0m     \u001b[39mif\u001b[39;00m \u001b[39mself\u001b[39m\u001b[39m.\u001b[39mhas_rsample:\n\u001b[1;32m    113\u001b[0m         \u001b[39mreturn\u001b[39;00m ScoreParts(\n\u001b[1;32m    114\u001b[0m             log_prob\u001b[39m=\u001b[39mlog_prob, score_function\u001b[39m=\u001b[39m\u001b[39m0\u001b[39m, entropy_term\u001b[39m=\u001b[39mlog_prob\n\u001b[1;32m    115\u001b[0m         )\n",
      "File \u001b[0;32m~/Library/Python/3.8/lib/python/site-packages/torch/distributions/half_normal.py:53\u001b[0m, in \u001b[0;36mHalfNormal.log_prob\u001b[0;34m(self, value)\u001b[0m\n\u001b[1;32m     51\u001b[0m \u001b[39mdef\u001b[39;00m \u001b[39mlog_prob\u001b[39m(\u001b[39mself\u001b[39m, value):\n\u001b[1;32m     52\u001b[0m     \u001b[39mif\u001b[39;00m \u001b[39mself\u001b[39m\u001b[39m.\u001b[39m_validate_args:\n\u001b[0;32m---> 53\u001b[0m         \u001b[39mself\u001b[39;49m\u001b[39m.\u001b[39;49m_validate_sample(value)\n\u001b[1;32m     54\u001b[0m     log_prob \u001b[39m=\u001b[39m \u001b[39mself\u001b[39m\u001b[39m.\u001b[39mbase_dist\u001b[39m.\u001b[39mlog_prob(value) \u001b[39m+\u001b[39m math\u001b[39m.\u001b[39mlog(\u001b[39m2\u001b[39m)\n\u001b[1;32m     55\u001b[0m     log_prob[value\u001b[39m.\u001b[39mexpand(log_prob\u001b[39m.\u001b[39mshape) \u001b[39m<\u001b[39m \u001b[39m0\u001b[39m] \u001b[39m=\u001b[39m \u001b[39m-\u001b[39minf\n",
      "File \u001b[0;32m~/Library/Python/3.8/lib/python/site-packages/torch/distributions/distribution.py:286\u001b[0m, in \u001b[0;36mDistribution._validate_sample\u001b[0;34m(self, value)\u001b[0m\n\u001b[1;32m    284\u001b[0m valid \u001b[39m=\u001b[39m support\u001b[39m.\u001b[39mcheck(value)\n\u001b[1;32m    285\u001b[0m \u001b[39mif\u001b[39;00m \u001b[39mnot\u001b[39;00m valid\u001b[39m.\u001b[39mall():\n\u001b[0;32m--> 286\u001b[0m     \u001b[39mraise\u001b[39;00m \u001b[39mValueError\u001b[39;00m(\n\u001b[1;32m    287\u001b[0m         \u001b[39m\"\u001b[39m\u001b[39mExpected value argument \u001b[39m\u001b[39m\"\u001b[39m\n\u001b[1;32m    288\u001b[0m         \u001b[39mf\u001b[39m\u001b[39m\"\u001b[39m\u001b[39m(\u001b[39m\u001b[39m{\u001b[39;00m\u001b[39mtype\u001b[39m(value)\u001b[39m.\u001b[39m\u001b[39m__name__\u001b[39m\u001b[39m}\u001b[39;00m\u001b[39m of shape \u001b[39m\u001b[39m{\u001b[39;00m\u001b[39mtuple\u001b[39m(value\u001b[39m.\u001b[39mshape)\u001b[39m}\u001b[39;00m\u001b[39m) \u001b[39m\u001b[39m\"\u001b[39m\n\u001b[1;32m    289\u001b[0m         \u001b[39mf\u001b[39m\u001b[39m\"\u001b[39m\u001b[39mto be within the support (\u001b[39m\u001b[39m{\u001b[39;00m\u001b[39mrepr\u001b[39m(support)\u001b[39m}\u001b[39;00m\u001b[39m) \u001b[39m\u001b[39m\"\u001b[39m\n\u001b[1;32m    290\u001b[0m         \u001b[39mf\u001b[39m\u001b[39m\"\u001b[39m\u001b[39mof the distribution \u001b[39m\u001b[39m{\u001b[39;00m\u001b[39mrepr\u001b[39m(\u001b[39mself\u001b[39m)\u001b[39m}\u001b[39;00m\u001b[39m, \u001b[39m\u001b[39m\"\u001b[39m\n\u001b[1;32m    291\u001b[0m         \u001b[39mf\u001b[39m\u001b[39m\"\u001b[39m\u001b[39mbut found invalid values:\u001b[39m\u001b[39m\\n\u001b[39;00m\u001b[39m{\u001b[39;00mvalue\u001b[39m}\u001b[39;00m\u001b[39m\"\u001b[39m\n\u001b[1;32m    292\u001b[0m     )\n",
      "\u001b[0;31mValueError\u001b[0m: Error while computing score_parts at site 'UAint':\nExpected value argument (Tensor of shape (1127,)) to be within the support (GreaterThan(lower_bound=0.0)) of the distribution HalfNormal(), but found invalid values:\ntensor([2.9239e+11, 1.7663e+11, 3.7070e+11,  ..., 3.3300e+11, 9.9529e+11,\n        3.4251e+11], grad_fn=<AbsBackward0>)\nTrace Shapes:             \n Param Sites:             \n      d_alpha 1127   20   \n       d_beta 1127   20   \n      s_alpha 5237   20   \n       s_beta 5237   20   \n      sef_int      5237   \n   drug_int_p      1127   \nSample Sites:             \n      UA dist 1127    | 20\n        value 1127    | 20\n     log_prob 1127    |   \n   UAint dist 1127    |   \n        value 1127    |   "
     ]
    }
   ],
   "source": [
    "b = test2.train_SVI(data, ~torch.from_numpy(nan_mask) , nsteps=500 )"
   ]
  },
  {
   "cell_type": "code",
   "execution_count": 36,
   "metadata": {},
   "outputs": [
    {
     "name": "stdout",
     "output_type": "stream",
     "text": [
      "UA: (250, 1, 1127, 25)\n",
      "drug_int: (250, 1, 1127)\n",
      "sf_int: (250, 1, 5237)\n",
      "VA: (250, 1, 5237, 25)\n",
      "target: (250, 1127, 5237)\n"
     ]
    }
   ],
   "source": [
    "test2.sample_predict(250)"
   ]
  },
  {
   "cell_type": "code",
   "execution_count": 37,
   "metadata": {},
   "outputs": [
    {
     "name": "stdout",
     "output_type": "stream",
     "text": [
      "PMF  RMSE:  0.3775303588714765\n",
      "AUC: 0.82903\n",
      "PMF  RMSE:  0.37387566794995664\n",
      "AUC: 0.83198\n"
     ]
    },
    {
     "data": {
      "text/plain": [
       "(0.37387566794995664, 0.8319824323231667)"
      ]
     },
     "execution_count": 37,
     "metadata": {},
     "output_type": "execute_result"
    }
   ],
   "source": [
    "#test rmse\n",
    "test2.rmse(data, nan_mask,1)\n",
    "#train rmse\n",
    "test2.rmse(data, ~nan_mask,1)\n"
   ]
  },
  {
   "cell_type": "code",
   "execution_count": 38,
   "metadata": {},
   "outputs": [
    {
     "name": "stdout",
     "output_type": "stream",
     "text": [
      "PMF  RMSE:  0.2935781208202841\n",
      "AUC: 0.50000\n",
      "PMF  RMSE:  0.29386885556227027\n",
      "AUC: 0.50000\n"
     ]
    },
    {
     "data": {
      "text/plain": [
       "(0.29386885556227027, 0.5)"
      ]
     },
     "execution_count": 38,
     "metadata": {},
     "output_type": "execute_result"
    }
   ],
   "source": [
    "#test rmse\n",
    "test2.rmse(data, nan_mask,4)\n",
    "#train rmse\n",
    "test2.rmse(data, ~nan_mask,4)\n"
   ]
  }
 ],
 "metadata": {
  "kernelspec": {
   "display_name": "Python 3.8.9 64-bit",
   "language": "python",
   "name": "python3"
  },
  "language_info": {
   "codemirror_mode": {
    "name": "ipython",
    "version": 3
   },
   "file_extension": ".py",
   "mimetype": "text/x-python",
   "name": "python",
   "nbconvert_exporter": "python",
   "pygments_lexer": "ipython3",
   "version": "3.8.9"
  },
  "orig_nbformat": 4,
  "vscode": {
   "interpreter": {
    "hash": "31f2aee4e71d21fbe5cf8b01ff0e069b9275f58929596ceb00d14d90e3e16cd6"
   }
  }
 },
 "nbformat": 4,
 "nbformat_minor": 2
}
