{
 "cells": [
  {
   "cell_type": "code",
   "execution_count": 1,
   "metadata": {},
   "outputs": [],
   "source": [
    "import pickle\n",
    "import torch.nn as nn\n",
    "from torch import Tensor\n",
    "from utils.data import Resource\n",
    "import numpy as np\n",
    "\n"
   ]
  },
  {
   "cell_type": "code",
   "execution_count": 2,
   "metadata": {},
   "outputs": [],
   "source": [
    "resource = Resource(\"../data\")\n",
    "data_train = resource.load_faers_train()\n",
    "data_all = resource.load_faers_whole()"
   ]
  },
  {
   "cell_type": "code",
   "execution_count": 14,
   "metadata": {},
   "outputs": [],
   "source": [
    "def split_train_test(data, percent_test=0.1):\n",
    "    \"\"\"Split the data into train/test sets.\n",
    "    :param int percent_test: Percentage of data to use for testing. Default 10.\n",
    "    \"\"\"\n",
    "    n, m = data.shape  # # users, # movies\n",
    "    N = n * m  # # cells in matrix\n",
    "\n",
    "    # Prepare train/test ndarrays.\n",
    "    train = data.copy()\n",
    "    test = np.ones(data.shape) * np.nan\n",
    "\n",
    "    # Draw random sample of training data to use for testing.\n",
    "    tosample = np.where(~np.isnan(train))  # ignore nan values in data\n",
    "    idx_pairs = list(zip(tosample[0], tosample[1]))  # tuples of row/col index pairs\n",
    "\n",
    "    test_size = int(len(idx_pairs) * percent_test)  # use 10% of data as test set\n",
    "    train_size = len(idx_pairs) - test_size  # and remainder for training\n",
    "\n",
    "    indices = np.arange(len(idx_pairs))  # indices of index pairs\n",
    "    sample = np.random.choice(indices, replace=False, size=test_size)\n",
    "\n",
    "    # Transfer random sample from train set to test set.\n",
    "    for idx in sample:\n",
    "        idx_pair = idx_pairs[idx]\n",
    "        test[idx_pair] = train[idx_pair]  # transfer to test set\n",
    "        train[idx_pair] = -1# remove from train set\n",
    "\n",
    "    # Verify everything worked properly\n",
    "    #assert train_size == N - np.isnan(train).sum()\n",
    "    #assert test_size == N - np.isnan(test).sum()\n",
    "    train[train<0.0] = np.nan\n",
    "    # Return train set and test set\n",
    "    return train, test"
   ]
  },
  {
   "cell_type": "code",
   "execution_count": 16,
   "metadata": {},
   "outputs": [
    {
     "name": "stdout",
     "output_type": "stream",
     "text": [
      "[[ 1.  0.  0. ...  1.  0.  0.]\n",
      " [ 0.  0.  0. ...  0.  0.  0.]\n",
      " [ 1.  0.  0. ...  1. nan  0.]\n",
      " ...\n",
      " [ 8.  0.  0. ... 10. 12.  0.]\n",
      " [ 1. nan  0. ...  4. 25.  0.]\n",
      " [ 0.  0.  0. ...  0.  0.  0.]]\n",
      "[[nan nan nan ... nan nan nan]\n",
      " [nan nan nan ... nan nan nan]\n",
      " [nan nan nan ... nan  8. nan]\n",
      " ...\n",
      " [nan nan nan ... nan nan nan]\n",
      " [nan  0. nan ... nan nan nan]\n",
      " [nan nan nan ... nan nan nan]]\n"
     ]
    }
   ],
   "source": [
    "train , test = split_train_test(data_all*1.0)\n",
    "print(train)\n",
    "print(test)"
   ]
  },
  {
   "cell_type": "code",
   "execution_count": 17,
   "metadata": {},
   "outputs": [],
   "source": [
    "with open('data_all.pickle', 'wb') as handle:\n",
    "    pickle.dump(data_all, handle, protocol=pickle.HIGHEST_PROTOCOL)\n",
    "with open('data_train.pickle', 'wb') as handle:\n",
    "    pickle.dump(train, handle, protocol=pickle.HIGHEST_PROTOCOL)\n",
    "with open('data_test.pickle', 'wb') as handle:\n",
    "    pickle.dump(test, handle, protocol=pickle.HIGHEST_PROTOCOL)"
   ]
  },
  {
   "cell_type": "code",
   "execution_count": 5,
   "metadata": {},
   "outputs": [],
   "source": [
    "\n",
    "with open('data_all.pickle', 'wb') as handle:\n",
    "    pickle.dump(data_all, handle, protocol=pickle.HIGHEST_PROTOCOL)\n",
    "with open('data_train.pickle', 'wb') as handle:\n",
    "    pickle.dump(data_train, handle, protocol=pickle.HIGHEST_PROTOCOL)"
   ]
  }
 ],
 "metadata": {
  "kernelspec": {
   "display_name": "Python 3.8.9 64-bit",
   "language": "python",
   "name": "python3"
  },
  "language_info": {
   "codemirror_mode": {
    "name": "ipython",
    "version": 3
   },
   "file_extension": ".py",
   "mimetype": "text/x-python",
   "name": "python",
   "nbconvert_exporter": "python",
   "pygments_lexer": "ipython3",
   "version": "3.8.9"
  },
  "orig_nbformat": 4,
  "vscode": {
   "interpreter": {
    "hash": "31f2aee4e71d21fbe5cf8b01ff0e069b9275f58929596ceb00d14d90e3e16cd6"
   }
  }
 },
 "nbformat": 4,
 "nbformat_minor": 2
}
