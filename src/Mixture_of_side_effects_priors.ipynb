{
 "cells": [
  {
   "cell_type": "code",
   "execution_count": 1,
   "metadata": {},
   "outputs": [],
   "source": [
    "import logging\n",
    "\n",
    "import pickle\n",
    "import torch.nn.functional as F\n",
    "\n",
    "import torch\n",
    "import matplotlib.pyplot as plt\n",
    "import numpy as np\n",
    "import pandas as pd\n",
    "import seaborn as sns\n",
    "from torch.distributions import constraints\n",
    "from torch import nn\n",
    "import pyro\n",
    "import pyro.distributions as dist\n",
    "import pyro.optim as optim\n",
    "from pyro.infer import SVI, Trace_ELBO\n",
    "from pyro.optim import Adam\n",
    "from pyro.infer import Predictive\n",
    "import seaborn as sns\n",
    "from pyro import poutine\n",
    "from sklearn import metrics\n",
    "from pyro.infer.autoguide import AutoMultivariateNormal, AutoLowRankMultivariateNormal, init_to_mean,init_to_feasible,AutoNormal"
   ]
  },
  {
   "cell_type": "code",
   "execution_count": 3,
   "metadata": {},
   "outputs": [
    {
     "name": "stdout",
     "output_type": "stream",
     "text": [
      "(5237, 100)\n"
     ]
    }
   ],
   "source": [
    "with open('VA.pickle', 'rb') as handle:\n",
    "    data2 = pickle.load(handle)\n",
    "print(data2.shape)"
   ]
  },
  {
   "cell_type": "code",
   "execution_count": 32,
   "metadata": {},
   "outputs": [],
   "source": [
    "def mix_weights(beta):\n",
    "    beta1m_cumprod = (1 - beta).cumprod(-1)\n",
    "    return F.pad(beta, (0, 1), value=1) * F.pad(beta1m_cumprod, (1, 0), value=1)\n",
    "def model2(data, T, alpha):\n",
    "    with pyro.plate(\"beta_plate\", T-1):\n",
    "        beta = pyro.sample(\"beta\", dist.Beta(1,alpha))\n",
    "\n",
    "    with pyro.plate(\"mu_plate\", T):\n",
    "        mu = pyro.sample(\"mu\", dist.MultivariateNormal(torch.zeros(100), 1 * torch.eye(100)))\n",
    "        #cov = pyro.sample(\"cov\", dist.Gamma(torch.ones(1), 2*torch.ones(1)).expand([100]).to_event(1) )\n",
    "\n",
    "    #cov_matrix = torch.ones(T,100,100)\n",
    "    #for i in range(0,T):\n",
    "       # cov_matrix[i] = cov[i]*torch.eye(100)\n",
    "\n",
    "    with pyro.plate(\"data\", N):\n",
    "     \n",
    "        z = pyro.sample(\"z\", dist.Categorical(mix_weights(beta)))\n",
    "        pyro.sample(\"obs\", dist.MultivariateNormal(mu[z],torch.eye(100)) ,obs=data)#cov_matrix[z]), obs=data)\n",
    "\n",
    "def guide2(data, T , alpha):\n",
    "    kappa = pyro.param('kappa', lambda: dist.Uniform(0, 2).sample([T-1]), constraint=constraints.positive)\n",
    "    tau = pyro.param('tau', lambda: dist.MultivariateNormal(torch.zeros(100), 1 * torch.eye(100)).sample([T]))\n",
    "    phi = pyro.param('phi', lambda: dist.Dirichlet(1/T * torch.ones(T)).sample([N]), constraint=constraints.simplex)\n",
    "    #d_alpha = pyro.param('d_alpha', torch.ones(T,100), constraint=constraints.positive)#*self.user_mean)\n",
    "    #d_beta = pyro.param('d_beta', =torch.ones(T,100), constraint=constraints.positive)\n",
    "\n",
    "    with pyro.plate(\"beta_plate\", T-1):\n",
    "        q_beta = pyro.sample(\"beta\", dist.Beta(torch.ones(T-1), kappa))\n",
    "\n",
    "    with pyro.plate(\"mu_plate\", T):\n",
    "        q_mu = pyro.sample(\"mu\", dist.MultivariateNormal(tau, torch.eye(100)))\n",
    "        #cov = pyro.sample(\"cov\", dist.Gamma(d_alpha, d_beta).to_event(1))\n",
    "\n",
    "    with pyro.plate(\"data\", N):\n",
    "        z = pyro.sample(\"z\", dist.Categorical(phi))\n",
    "\n",
    "def train2(num_iterations, trainin, T_final, alpha):\n",
    "    pyro.clear_param_store()\n",
    "    optimize = optim.ClippedAdam({\"lr\": 0.05, \"lrd\": 1})\n",
    "    svi = SVI(model2, guide2, optimize, loss=Trace_ELBO())\n",
    "    losses = []\n",
    "    for j in range(num_iterations):\n",
    "        loss = svi.step(trainin, T_final, alpha)\n",
    "        losses.append(loss)\n",
    "        if j % 10 == 0:\n",
    "                        print(\"Elbo loss: {}\".format(loss))\n",
    "    return losses\n",
    "\n",
    "def truncate(alpha, centers, weights):\n",
    "    threshold = alpha**-1 / 100.\n",
    "    true_centers = centers[weights > threshold]\n",
    "    true_weights = weights[weights > threshold] / torch.sum(weights[weights > threshold])\n",
    "    return true_centers, true_weights\n",
    "\n",
    "def data_prep(data):\n",
    "    df = pd.DataFrame(data)\n",
    "    df_test = df.sample(frac=0.1)\n",
    "    data_train = torch.tensor(df.drop(df_test.index).values, dtype=torch.float)\n",
    "    data_test = torch.tensor(df_test.values, dtype=torch.float) \n",
    "    return data_train, data_test\n",
    "\n",
    "def pred_likel(data_train,data_test):\n",
    "    N = data_train.shape[0]\n",
    "    N_test = data_test.shape[0]\n",
    "    alpha = 1.5\n",
    "    #train2(1000, data_train, 150,alpha)\n",
    "    Bayes_Centers_01, Bayes_Weights_01 = truncate(alpha, pyro.param(\"tau\").detach(), torch.mean(pyro.param(\"phi\").detach(), dim=0))\n",
    "    #T_final=Bayes_Centers_01.shape[0]\n",
    "    alphas = [4]\n",
    "    log_predictives = []\n",
    "\n",
    "    for val in alphas:\n",
    "        alpha = val\n",
    "        T = 73#\n",
    "        T_final =73\n",
    "        train2(700, data_train, T_final, alpha)\n",
    "\n",
    "        S = 200 # number of Monte Carlo samples to use in posterior predictive computations\n",
    "\n",
    "        # Using pyro's built in posterior predictive class:\n",
    "        posterior = Predictive(guide2, num_samples=S, return_sites=[\"beta\", \"mu\"])(data_train , T, val)\n",
    "        post_pred_weights = mix_weights(posterior[\"beta\"])\n",
    "        post_pred_clusters = posterior[\"mu\"]\n",
    "        log_prob = (post_pred_weights.log() + dist.MultivariateNormal(post_pred_clusters, torch.eye(100)).log_prob(data_test.reshape(-1, 1, 1,100))).logsumexp(-1)\n",
    "        mean_log_prob = log_prob.logsumexp(-1) - np.log(S)\n",
    "        log_posterior_predictive = mean_log_prob.sum(-1)\n",
    "        log_predictives.append(log_posterior_predictive)\n",
    "        print(log_posterior_predictive)\n",
    "    return log_predictives , T_final\n",
    "\n",
    "    \n",
    "    \n",
    "\n"
   ]
  },
  {
   "cell_type": "code",
   "execution_count": 40,
   "metadata": {},
   "outputs": [],
   "source": [
    "with open('UA.pickle', 'rb') as handle:\n",
    "     data2 = pickle.load(handle)\n",
    "trainin,test = data_prep(data2)\n",
    "\n",
    "N=trainin.shape[0]\n",
    "\n",
    "\n",
    "\n",
    "\n",
    "\n"
   ]
  },
  {
   "cell_type": "code",
   "execution_count": 55,
   "metadata": {},
   "outputs": [
    {
     "data": {
      "image/png": "[encoded data removed]",
      "text/plain": [
       "<Figure size 720x360 with 1 Axes>"
      ]
     },
     "metadata": {
      "needs_background": "light"
     },
     "output_type": "display_data"
    }
   ],
   "source": [
    "plt.figure(figsize=(10, 5))\n",
    "\n",
    "plt.plot([0.05, 0.1, 0.5, 0.75, 0.9, 1., 1.25, 1.5, 2, 2.5], lp[0])\n",
    "plt.title(\"Value of the Log Predictive of the drug latents for Varying Alpha\")\n",
    "plt.savefig(\"log_pred_drug_all_opt.png\")\n",
    "plt.show()"
   ]
  },
  {
   "cell_type": "code",
   "execution_count": 42,
   "metadata": {},
   "outputs": [
    {
     "name": "stdout",
     "output_type": "stream",
     "text": [
      "Elbo loss: 241136.979347229\n",
      "Elbo loss: 212599.3376493454\n",
      "Elbo loss: 196136.18248653412\n",
      "Elbo loss: 186528.1527786255\n",
      "Elbo loss: 181471.61784362793\n",
      "Elbo loss: 178632.40148973465\n",
      "Elbo loss: 176976.0152850151\n",
      "Elbo loss: 176553.71593379974\n",
      "Elbo loss: 176439.2492930889\n",
      "Elbo loss: 177913.80118083954\n",
      "Elbo loss: 175714.87017726898\n",
      "Elbo loss: 174496.02081394196\n",
      "Elbo loss: 173417.78718566895\n",
      "Elbo loss: 172520.69974422455\n",
      "Elbo loss: 171285.67141151428\n",
      "Elbo loss: 172972.92757225037\n",
      "Elbo loss: 173699.00487804413\n",
      "Elbo loss: 169917.19396018982\n",
      "Elbo loss: 169922.78885650635\n",
      "Elbo loss: 168457.7924003601\n",
      "Elbo loss: 170227.15161895752\n",
      "Elbo loss: 169695.51713752747\n",
      "Elbo loss: 168862.30360031128\n",
      "Elbo loss: 169276.50129699707\n",
      "Elbo loss: 169193.87407302856\n",
      "Elbo loss: 169266.0311050415\n",
      "Elbo loss: 170844.40491867065\n",
      "Elbo loss: 168694.87403678894\n",
      "Elbo loss: 170088.90476417542\n",
      "Elbo loss: 168609.36100959778\n",
      "Elbo loss: 169886.47485733032\n",
      "Elbo loss: 168363.8094959259\n",
      "Elbo loss: 170680.74842071533\n",
      "Elbo loss: 169141.58227920532\n",
      "Elbo loss: 170649.13562583923\n",
      "Elbo loss: 169807.81683540344\n",
      "Elbo loss: 167953.0124015808\n",
      "Elbo loss: 169171.10867118835\n",
      "Elbo loss: 168903.67151260376\n",
      "Elbo loss: 169001.45459365845\n",
      "Elbo loss: 171545.9785308838\n",
      "Elbo loss: 168343.15271377563\n",
      "Elbo loss: 168853.230342865\n",
      "Elbo loss: 170628.39965629578\n",
      "Elbo loss: 169122.85822105408\n",
      "Elbo loss: 169422.25005722046\n",
      "Elbo loss: 170149.48253631592\n",
      "Elbo loss: 168902.9707660675\n",
      "Elbo loss: 167673.40356826782\n",
      "Elbo loss: 168379.22134399414\n"
     ]
    }
   ],
   "source": [
    "pyro.set_rng_seed(80)\n",
    "N = data2.shape[0]\n",
    "final_parameters =  train2(500, torch.tensor(data2), 73, 0.75)"
   ]
  },
  {
   "cell_type": "code",
   "execution_count": 44,
   "metadata": {},
   "outputs": [
    {
     "name": "stdout",
     "output_type": "stream",
     "text": [
      "torch.Size([73, 100])\n",
      "torch.Size([1127, 73])\n",
      "tensor([[ 0.1357,  0.1268,  0.0492,  ...,  0.2582, -0.0935, -0.0015],\n",
      "        [ 0.0675,  0.1032,  0.0752,  ..., -0.1219, -0.1378, -0.0188],\n",
      "        [-0.1758,  0.1321, -0.2739,  ...,  0.1403, -0.0296, -0.0581],\n",
      "        ...,\n",
      "        [ 0.1055,  0.0107,  0.1632,  ..., -0.0275,  0.0028,  0.1868],\n",
      "        [ 0.0715,  0.1371, -0.3476,  ..., -0.1025,  0.2030, -0.1155],\n",
      "        [-0.0029,  0.1162, -0.1286,  ...,  0.4203, -0.1620,  0.3699]])\n"
     ]
    }
   ],
   "source": [
    "t=pyro.param(\"tau\").detach()\n",
    "phi = pyro.param(\"phi\").detach()\n",
    "print(t.shape)\n",
    "print(phi.shape)\n",
    "data_all = t,phi\n",
    "with open('drug_param.pickle', 'wb') as handle:\n",
    "    pickle.dump(data_all, handle, protocol=pickle.HIGHEST_PROTOCOL)\n",
    "print(t)\n"
   ]
  }
 ],
 "metadata": {
  "kernelspec": {
   "display_name": "Python 3.8.9 64-bit",
   "language": "python",
   "name": "python3"
  },
  "language_info": {
   "codemirror_mode": {
    "name": "ipython",
    "version": 3
   },
   "file_extension": ".py",
   "mimetype": "text/x-python",
   "name": "python",
   "nbconvert_exporter": "python",
   "pygments_lexer": "ipython3",
   "version": "3.8.9"
  },
  "orig_nbformat": 4,
  "vscode": {
   "interpreter": {
    "hash": "31f2aee4e71d21fbe5cf8b01ff0e069b9275f58929596ceb00d14d90e3e16cd6"
   }
  }
 },
 "nbformat": 4,
 "nbformat_minor": 2
}
