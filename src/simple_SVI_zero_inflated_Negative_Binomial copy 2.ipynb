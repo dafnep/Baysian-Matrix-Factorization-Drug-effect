{
 "cells": [
  {
   "cell_type": "code",
   "execution_count": 1,
   "metadata": {},
   "outputs": [],
   "source": [
    "import logging\n",
    "\n",
    "import pickle\n",
    "\n",
    "import torch\n",
    "import matplotlib.pyplot as plt\n",
    "import numpy as np\n",
    "import pandas as pd\n",
    "import seaborn as sns\n",
    "from torch.distributions import constraints\n",
    "from torch import nn\n",
    "import pyro\n",
    "import pyro.distributions as dist\n",
    "import pyro.optim as optim\n",
    "from pyro.infer import SVI, Trace_ELBO\n",
    "from pyro.optim import Adam\n",
    "from pyro.infer import Predictive\n",
    "import seaborn as sns\n",
    "from pyro import poutine\n",
    "from sklearn import metrics"
   ]
  },
  {
   "cell_type": "code",
   "execution_count": 2,
   "metadata": {},
   "outputs": [],
   "source": [
    "pyro.set_rng_seed(10)"
   ]
  },
  {
   "cell_type": "code",
   "execution_count": 3,
   "metadata": {},
   "outputs": [
    {
     "name": "stdout",
     "output_type": "stream",
     "text": [
      "(1127, 5237)\n",
      "tensor([[False, False, False,  ..., False, False, False],\n",
      "        [False, False, False,  ..., False, False, False],\n",
      "        [False, False, False,  ..., False, False, False],\n",
      "        ...,\n",
      "        [False, False, False,  ..., False, False, False],\n",
      "        [False, False, False,  ..., False, False, False],\n",
      "        [False, False, False,  ..., False, False, False]])\n"
     ]
    }
   ],
   "source": [
    "\n",
    "with open('data_all.pickle', 'rb') as handle:\n",
    "    data = pickle.load(handle)\n",
    "print(data.shape)\n",
    "\n",
    "nan_mask = np.isnan(data) #when calculating the train/test set to \"nan\" all the examples that are for testing so that you do not train on them \n",
    "print(torch.from_numpy(nan_mask) )"
   ]
  },
  {
   "cell_type": "code",
   "execution_count": 4,
   "metadata": {},
   "outputs": [],
   "source": [
    "class PMF_zero_NB(nn.Module):\n",
    "\n",
    "    # by default our latent space is 50-dimensional\n",
    "    # and we use 400 hidden units\n",
    "    def __init__(self, data,train, dim,alpha):\n",
    "        super().__init__()\n",
    "        \"\"\"Build the Probabilistic Matrix Factorization model using pymc3.\n",
    "\n",
    "\n",
    "\n",
    "        \"\"\"\n",
    "        self.dim = dim   \n",
    "        self.data = data.copy()\n",
    "        self.n, self.m = self.data.shape\n",
    "        self.map = None\n",
    "        self.bounds = (0,1)\n",
    "        self.losses = None\n",
    "        self.predictions = None\n",
    "        self.returned = None\n",
    "        self.predictive_svi = None\n",
    "        self.a=alpha\n",
    "\n",
    "\n",
    "        # Perform mean value imputation\n",
    "    \n",
    "        \n",
    "        # Low precision reflects uncertainty; prevents overfitting.\n",
    "        # Set to the mean variance across users and items.\n",
    "        self.alpha_u = (np.mean(self.data, axis=1).mean())**2 / np.std(self.data, axis=1).mean()\n",
    "        self.alpha_v = (np.mean(self.data, axis=0).mean())**2 / np.std(self.data, axis=0).mean()\n",
    "        \n",
    "        self.beta_u = (np.mean(self.data, axis=1).mean()) / np.std(self.data, axis=1).mean()\n",
    "        self.beta_v = (np.mean(self.data, axis=0).mean()) / np.std(self.data, axis=0).mean()\n",
    "        self.bias = self.data.mean()\n",
    "        self.alpha = 1\n",
    "\n",
    "\n",
    "    def model(self, train, mask):\n",
    "        alpha = 1\n",
    "        beta = 1\n",
    "   \n",
    "\n",
    "        drug_plate = pyro.plate(\"drug_latents\", self.n, dim= -1) #independent users\n",
    "        sideeffect_plate = pyro.plate(\"sideeffect_latents\", self.m, dim= -1) #independent items\n",
    "\n",
    "        with drug_plate: \n",
    "            UA = pyro.sample(\"UA\", dist.Gamma(self.alpha_u, self.beta_u).expand([self.dim]).to_event(1))\n",
    "            #alpha = pyro.sample(\"alpha\", dist.Poisson(self.alpha))\n",
    "            #tendacy of people not reporting side effects\n",
    "            p = pyro.sample(\"p\", dist.Beta(alpha, beta))\n",
    "        \n",
    "        with sideeffect_plate:\n",
    "            VA = pyro.sample(\"VA\", dist.Gamma(self.alpha_v, self.beta_v).expand([self.dim]).to_event(1))\n",
    "            #possibly add intercepts VA_int = pyro.sample(\"VA\", dist.Normal(0., 1.).to_event(1))\n",
    "       \n",
    "        u2_plate = pyro.plate(\"u2_plate\", self.n, dim=-2)\n",
    "\n",
    "        with sideeffect_plate, u2_plate: \n",
    "           # with pyro.poutine.mask(mask=mask):\n",
    "             Y = pyro.sample(\"target\", dist.ZeroInflatedDistribution( base_dist= dist.NegativeBinomial(self.a, UA@VA.T/( UA@VA.T+self.a)) ,gate = p[:, np.newaxis]), obs=train ) \n",
    "             return Y\n",
    "        \n",
    "\n",
    "    def guide(self, train=None, mask=None):\n",
    "\n",
    "        d_alpha = pyro.param('d_alpha', torch.ones(self.n,self.dim), constraint=constraints.positive)#*self.user_mean)\n",
    "        d_beta = pyro.param('d_beta', 0.5*torch.ones(self.n,self.dim), constraint=constraints.positive)\n",
    "        rate_alpha = pyro.param('rate_alpha', torch.ones(self.n), constraint=constraints.positive)\n",
    "        rate_beta = pyro.param('rate_beta', torch.ones(self.n), constraint=constraints.positive)\n",
    "\n",
    "\n",
    "        s_alpha = pyro.param('s_alpha', torch.ones(self.m,self.dim), constraint=constraints.positive)#*self.item_mean)\n",
    "        s_beta = pyro.param('s_beta', 0.5*torch.ones(self.m,self.dim), constraint=constraints.positive)\n",
    "        drug_plate = pyro.plate(\"drug_latents\", self.n, dim= -1) #independent users\n",
    "        sideeffect_plate = pyro.plate(\"sideeffect_latents\", self.m, dim= -1) #independent items\n",
    "\n",
    "        with drug_plate: \n",
    "            UA = pyro.sample(\"UA\", dist.Gamma(d_alpha, d_beta).to_event(1))\n",
    "            p = pyro.sample(\"p\", dist.Beta(rate_beta,rate_alpha))\n",
    "\n",
    "        with sideeffect_plate: \n",
    "            VA = pyro.sample(\"VA\", dist.Gamma(s_alpha, s_beta).to_event(1))\n",
    "    \n",
    "    def train_SVI(self,train,mask, nsteps=500, lr = 0.05, lrd = 1,verbose=True):\n",
    "        logging.basicConfig(format='%(message)s', level=logging.INFO)\n",
    "        svi = SVI(self.model,\n",
    "        self.guide,\n",
    "        optim.ClippedAdam({\"lr\": lr, \"lrd\": lrd}),\n",
    "        loss=Trace_ELBO())\n",
    "        losses = []\n",
    "        for step in range(nsteps):\n",
    "            elbo = svi.step(torch.from_numpy(train).float(), mask)\n",
    "            losses.append(elbo)\n",
    "            if(verbose):\n",
    "                if step % 10 == 0:\n",
    "                    print(\"Elbo loss: {}\".format(elbo))\n",
    "        self.losses = losses\n",
    "        #constrained_params = list(pyro.get_param_store().values())\n",
    "        #PARAMS = [p.unconstrained() for p in constrained_params]\n",
    "        #print(PARAMS)\n",
    "        return losses\n",
    "    \n",
    "    def sample_predict(self, nsamples=500 , verbose=True):\n",
    "        unmasked =torch.ones((self.n,self.m), dtype=torch.bool)\n",
    "        predictive_svi = Predictive(self.model, guide=self.guide, num_samples=nsamples)(None , unmasked)\n",
    "        if (verbose):\n",
    "            for k, v in predictive_svi.items():\n",
    "                print(f\"{k}: {tuple(v.shape)}\")\n",
    "        table = predictive_svi[\"target\"].numpy()\n",
    "        self.predictive_svi = predictive_svi\n",
    "        self.returned = table\n",
    "        mc_table = table.mean(axis = 0)\n",
    "        mc_table_std = table.std(axis = 0)\n",
    "\n",
    "        self.predictions = mc_table\n",
    "\n",
    "    \n",
    "    def predictive_score(self,test,masked):\n",
    "        exp=50\n",
    "        # total = test.shape[0]*test.shape[1]\n",
    "        \n",
    "        UA =  self.predictive_svi[\"UA\"]\n",
    "        VA = self.predictive_svi[\"VA\"]\n",
    "        VA = VA.mean(axis=0).reshape(self.m,self.dim)\n",
    "        UA = UA.mean(axis=0).reshape(self.n,self.dim)\n",
    "        p = self.predictive_svi[\"p\"].mean(axis=0).reshape(self.n)\n",
    "        print(UA.shape)\n",
    "        score = dist.ZeroInflatedDistribution( base_dist= dist.NegativeBinomial(self.a, UA@VA.T/( UA@VA.T+self.a)) ,gate = p[:, np.newaxis]).log_prob(torch.from_numpy(test))\n",
    "        mean_score = (score*masked).reshape(-1).logsumexp(-1) -np.log(test.shape[0]*test.shape[1])\n",
    "        return mean_score\n",
    "        \n",
    "    \n",
    "  \n",
    "    def rmse(self,test,masked,h):\n",
    "        low, high = self.bounds\n",
    "        test_data = test.copy()\n",
    "        test_data[test_data < h] = low\n",
    "        test_data[test_data >= h] = high\n",
    "        size = masked.sum()\n",
    "        predictions = self.predictions\n",
    "        predictions[predictions < h] = low\n",
    "        predictions[predictions >= h] = high\n",
    "        sqerror = abs(test_data[masked] - predictions[masked]) ** 2  # squared error array\n",
    "        mse = sqerror.sum()/size\n",
    "        print(\"PMF  RMSE: \" , np.sqrt(mse))\n",
    "        fpr, tpr, thresholds = metrics.roc_curve(test_data[masked].astype(int).flatten(),  predictions[masked].astype(int).flatten(), pos_label=1)\n",
    "        metrics.auc(fpr, tpr)\n",
    "        print(\"AUC: %.5f\" % metrics.auc(fpr, tpr))\n",
    "        return np.sqrt(mse) , metrics.auc(fpr, tpr)\n",
    "\n",
    "    def get_predictions(self):\n",
    "        return (self.returned,self.predictions)\n",
    "\n",
    "    def get_predictive_svi(self):\n",
    "         return (self.predictive_svi)\n",
    "\n",
    "    \n",
    "   \n",
    "       \n",
    "    "
   ]
  },
  {
   "cell_type": "code",
   "execution_count": 5,
   "metadata": {},
   "outputs": [
    {
     "name": "stdout",
     "output_type": "stream",
     "text": [
      "(1127, 5237)\n",
      "UA: (250, 1, 1127, 1)\n",
      "p: (250, 1, 1127)\n",
      "VA: (250, 1, 5237, 1)\n",
      "target: (250, 1127, 5237)\n",
      "torch.Size([1127, 1])\n",
      "UA: (250, 1, 1127, 5)\n",
      "p: (250, 1, 1127)\n",
      "VA: (250, 1, 5237, 5)\n",
      "target: (250, 1127, 5237)\n",
      "torch.Size([1127, 5])\n",
      "UA: (250, 1, 1127, 10)\n",
      "p: (250, 1, 1127)\n",
      "VA: (250, 1, 5237, 10)\n",
      "target: (250, 1127, 5237)\n",
      "torch.Size([1127, 10])\n",
      "UA: (250, 1, 1127, 20)\n",
      "p: (250, 1, 1127)\n",
      "VA: (250, 1, 5237, 20)\n",
      "target: (250, 1127, 5237)\n",
      "torch.Size([1127, 20])\n",
      "UA: (250, 1, 1127, 50)\n",
      "p: (250, 1, 1127)\n",
      "VA: (250, 1, 5237, 50)\n",
      "target: (250, 1127, 5237)\n",
      "torch.Size([1127, 50])\n",
      "UA: (250, 1, 1127, 75)\n",
      "p: (250, 1, 1127)\n",
      "VA: (250, 1, 5237, 75)\n",
      "target: (250, 1127, 5237)\n",
      "torch.Size([1127, 75])\n",
      "UA: (250, 1, 1127, 100)\n",
      "p: (250, 1, 1127)\n",
      "VA: (250, 1, 5237, 100)\n",
      "target: (250, 1127, 5237)\n",
      "torch.Size([1127, 100])\n",
      "UA: (250, 1, 1127, 200)\n",
      "p: (250, 1, 1127)\n",
      "VA: (250, 1, 5237, 200)\n",
      "target: (250, 1127, 5237)\n",
      "torch.Size([1127, 200])\n",
      "UA: (250, 1, 1127, 250)\n",
      "p: (250, 1, 1127)\n",
      "VA: (250, 1, 5237, 250)\n",
      "target: (250, 1127, 5237)\n",
      "torch.Size([1127, 250])\n"
     ]
    }
   ],
   "source": [
    "with open('data_train.pickle', 'rb') as handle:\n",
    "    data2 = pickle.load(handle)\n",
    "print(data2.shape)\n",
    "\n",
    "with open('data_all.pickle', 'rb') as handle:\n",
    "    data = pickle.load(handle)\n",
    "\n",
    "def predictive_score_for_diim_estimation(data_all, train, classname):\n",
    "    score=[]\n",
    "    for d in [1,5,10,20,50,75,100,200,250]:\n",
    "        nan_mask = np.isnan(train) #when calculating the train/test set to \"nan\" all the examples that are for testing so that you do not train on them \n",
    "        test = classname(data_all,train, d,50)  \n",
    "        pyro.clear_param_store()\n",
    "        test.train_SVI(data_all , ~torch.from_numpy(nan_mask), verbose = False)\n",
    "        test.sample_predict(250)\n",
    "        score.append(test.predictive_score(data_all,  torch.from_numpy(nan_mask)))\n",
    "    return score\n",
    "\n",
    "s = predictive_score_for_diim_estimation(data,data2, PMF_zero_NB)"
   ]
  },
  {
   "cell_type": "code",
   "execution_count": 6,
   "metadata": {},
   "outputs": [
    {
     "data": {
      "image/png": "[encoded data removed]",
      "text/plain": [
       "<Figure size 720x360 with 1 Axes>"
      ]
     },
     "metadata": {
      "needs_background": "light"
     },
     "output_type": "display_data"
    }
   ],
   "source": [
    "d = [1,5,10,20,50,75,100,200,250]\n",
    "plt.figure(figsize=(10, 5))\n",
    "plt.plot(d, s)\n",
    "plt.title(\"Value of the Log Predictive For different #dimensions\")\n",
    "plt.savefig(\"predictive_score_zero_inflNB.png\")\n",
    "plt.show()\n",
    "pyro.clear_param_store()"
   ]
  },
  {
   "cell_type": "code",
   "execution_count": 7,
   "metadata": {},
   "outputs": [
    {
     "name": "stdout",
     "output_type": "stream",
     "text": [
      "tensor([[False, False, False,  ..., False, False, False],\n",
      "        [False, False, False,  ..., False, False, False],\n",
      "        [False, False, False,  ..., False,  True, False],\n",
      "        ...,\n",
      "        [False, False, False,  ..., False, False, False],\n",
      "        [False,  True, False,  ..., False, False, False],\n",
      "        [False, False, False,  ..., False, False, False]])\n",
      "Elbo loss: 82184659.703125\n",
      "Elbo loss: 29713658.917907715\n",
      "Elbo loss: 18263230.930847168\n",
      "Elbo loss: 14853281.876159668\n",
      "Elbo loss: 14033856.257873535\n",
      "Elbo loss: 13632448.011413574\n",
      "Elbo loss: 13175168.023376465\n",
      "Elbo loss: 12781695.089294434\n",
      "Elbo loss: 12131878.164672852\n",
      "Elbo loss: 11595052.633148193\n",
      "Elbo loss: 11231456.679077148\n",
      "Elbo loss: 10948230.805908203\n",
      "Elbo loss: 10748027.88470459\n",
      "Elbo loss: 10534225.417053223\n",
      "Elbo loss: 10400449.235992432\n",
      "Elbo loss: 10319905.045715332\n",
      "Elbo loss: 10260916.260726929\n",
      "Elbo loss: 10149407.469573975\n",
      "Elbo loss: 10010753.000305176\n",
      "Elbo loss: 9880084.19732666\n",
      "Elbo loss: 9948560.400787354\n",
      "Elbo loss: 9828456.942230225\n",
      "Elbo loss: 9726806.551391602\n",
      "Elbo loss: 9768274.949264526\n",
      "Elbo loss: 9644823.053894043\n"
     ]
    }
   ],
   "source": [
    "pyro.clear_param_store()\n",
    "\n",
    "nan_mask = np.isnan(data2) #when calculating the train/test set to \"nan\" all the examples that are for testing so that you do not train on them \n",
    "print(torch.from_numpy(nan_mask) )\n",
    "test = PMF_zero_NB(data,data2,50,50)\n",
    "loss = test.train_SVI(data, ~torch.from_numpy(nan_mask))\n"
   ]
  },
  {
   "cell_type": "code",
   "execution_count": 11,
   "metadata": {},
   "outputs": [
    {
     "name": "stdout",
     "output_type": "stream",
     "text": [
      "Elbo loss: 9637172.62876892\n",
      "Elbo loss: 9799880.5703125\n",
      "Elbo loss: 9651075.595779419\n",
      "Elbo loss: 9545732.23550415\n",
      "Elbo loss: 9482618.322677612\n",
      "Elbo loss: 9500818.18133545\n",
      "Elbo loss: 9440425.204544067\n",
      "Elbo loss: 9400076.91481018\n",
      "Elbo loss: 9326633.296401978\n",
      "Elbo loss: 9353206.171218872\n",
      "Elbo loss: 9365301.00366211\n",
      "Elbo loss: 9300240.48550415\n",
      "Elbo loss: 9262527.99382019\n",
      "Elbo loss: 9156941.90838623\n",
      "Elbo loss: 9271638.401290894\n",
      "Elbo loss: 9203192.78251648\n",
      "Elbo loss: 9191983.495819092\n",
      "Elbo loss: 9104956.537963867\n",
      "Elbo loss: 9178171.53930664\n",
      "Elbo loss: 9191572.424865723\n",
      "Elbo loss: 9142914.511230469\n",
      "Elbo loss: 9075429.376861572\n",
      "Elbo loss: 9138386.63406372\n",
      "Elbo loss: 9176970.029449463\n",
      "Elbo loss: 9172059.692138672\n"
     ]
    }
   ],
   "source": [
    "lloss = test.train_SVI(data, ~torch.from_numpy(nan_mask))\n"
   ]
  },
  {
   "cell_type": "code",
   "execution_count": 12,
   "metadata": {},
   "outputs": [
    {
     "name": "stdout",
     "output_type": "stream",
     "text": [
      "UA: (300, 1, 1127, 50)\n",
      "p: (300, 1, 1127)\n",
      "VA: (300, 1, 5237, 50)\n",
      "target: (300, 1127, 5237)\n"
     ]
    }
   ],
   "source": [
    "total_loss = loss +lloss\n",
    "test.sample_predict(300)"
   ]
  },
  {
   "cell_type": "code",
   "execution_count": 9,
   "metadata": {},
   "outputs": [
    {
     "name": "stdout",
     "output_type": "stream",
     "text": [
      "PMF  RMSE:  0.36970541053854217\n",
      "AUC: 0.81738\n",
      "PMF  RMSE:  0.36927099699806987\n",
      "AUC: 0.81791\n"
     ]
    },
    {
     "data": {
      "text/plain": [
       "(0.36927099699806987, 0.8179061535277357)"
      ]
     },
     "execution_count": 9,
     "metadata": {},
     "output_type": "execute_result"
    }
   ],
   "source": [
    "nan_mask = np.isnan(data2)\n",
    "#test rmse\n",
    "test.rmse(data, nan_mask,1)\n",
    "#train rmse\n",
    "test.rmse(data, ~nan_mask,1)"
   ]
  },
  {
   "cell_type": "code",
   "execution_count": 10,
   "metadata": {},
   "outputs": [
    {
     "name": "stdout",
     "output_type": "stream",
     "text": [
      "PMF  RMSE:  0.2935781208202841\n",
      "AUC: 0.50000\n",
      "PMF  RMSE:  0.29386885556227027\n",
      "AUC: 0.50000\n"
     ]
    },
    {
     "data": {
      "text/plain": [
       "(0.29386885556227027, 0.5)"
      ]
     },
     "execution_count": 10,
     "metadata": {},
     "output_type": "execute_result"
    }
   ],
   "source": [
    "#test rmse\n",
    "test.rmse(data, nan_mask,4)\n",
    "#train rmse\n",
    "test.rmse(data, ~nan_mask,4)"
   ]
  },
  {
   "cell_type": "code",
   "execution_count": 13,
   "metadata": {},
   "outputs": [],
   "source": [
    "Simple_PMF ={}\n",
    "Simple_PMF['losses'] = loss + lloss\n",
    "Simple_PMF['predictive_score'] = d\n",
    "Simple_PMF['train_rmse'] = 0.3692\n",
    "Simple_PMF['test_rmse'] = 0.3697\n",
    "Simple_PMF['AUC'] = 0.817\n",
    "Simple_PMF['train_rmse_3'] = 0.2938\n",
    "Simple_PMF['test_rmse_3'] = 0.2936\n",
    "Simple_PMF['predictions'] = test.get_predictions()"
   ]
  },
  {
   "cell_type": "code",
   "execution_count": 14,
   "metadata": {},
   "outputs": [],
   "source": [
    "with open('SVI_zero_inflated_negative_binomial.pickle', 'wb') as handle:\n",
    "    pickle.dump(Simple_PMF, handle, protocol=pickle.HIGHEST_PROTOCOL)"
   ]
  }
 ],
 "metadata": {
  "kernelspec": {
   "display_name": "Python 3.8.9 64-bit",
   "language": "python",
   "name": "python3"
  },
  "language_info": {
   "codemirror_mode": {
    "name": "ipython",
    "version": 3
   },
   "file_extension": ".py",
   "mimetype": "text/x-python",
   "name": "python",
   "nbconvert_exporter": "python",
   "pygments_lexer": "ipython3",
   "version": "3.8.9"
  },
  "orig_nbformat": 4,
  "vscode": {
   "interpreter": {
    "hash": "31f2aee4e71d21fbe5cf8b01ff0e069b9275f58929596ceb00d14d90e3e16cd6"
   }
  }
 },
 "nbformat": 4,
 "nbformat_minor": 2
}
