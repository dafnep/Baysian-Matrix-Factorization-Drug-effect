{
 "cells": [
  {
   "cell_type": "code",
   "execution_count": 1,
   "metadata": {},
   "outputs": [
    {
     "name": "stdout",
     "output_type": "stream",
     "text": [
      "Running on PyMC v4.3.0\n"
     ]
    },
    {
     "name": "stderr",
     "output_type": "stream",
     "text": [
      "/var/folders/54/_py3f4ks6f9d0x8d0wfy1pkc0000gn/T/ipykernel_7600/970271437.py:20: MatplotlibDeprecationWarning: The seaborn styles shipped by Matplotlib are deprecated since 3.6, as they no longer correspond to the styles shipped by seaborn. However, they will remain available as 'seaborn-v0_8-<style>'. Alternatively, directly use the seaborn API instead.\n",
      "  plt.style.use(\"seaborn-darkgrid\")\n"
     ]
    }
   ],
   "source": [
    "%matplotlib inline\n",
    "import numpy as np\n",
    "import pandas as pd\n",
    "import pymc as pm\n",
    "import logging\n",
    "import time\n",
    "\n",
    "import scipy as sp\n",
    "import aesara.tensor as at \n",
    "import aesara\n",
    "# Enable on-the-fly graph computations, but ignore\n",
    "# absence of intermediate test values.\n",
    "#theano.config.compute_test_value = \"ignore\"\n",
    "\n",
    "# Set up logging.\n",
    "logger = logging.getLogger()\n",
    "logger.setLevel(logging.INFO)\n",
    "from matplotlib import pyplot as plt\n",
    "\n",
    "plt.style.use(\"seaborn-darkgrid\")\n",
    "print(f\"Running on PyMC v{pm.__version__}\")"
   ]
  },
  {
   "cell_type": "code",
   "execution_count": 2,
   "metadata": {},
   "outputs": [],
   "source": [
    "class PMF_vanilla:\n",
    "    def __init__(self, train, dim):\n",
    "        \"\"\"Build the Probabilistic Matrix Factorization model using pymc3.\n",
    "\n",
    "\n",
    "\n",
    "        \"\"\"\n",
    "        self.dim = dim\n",
    "    \n",
    "      \n",
    "        self.data = train.copy()\n",
    "        self.n, self.m = self.data.shape\n",
    "        self.map = None\n",
    "        self.bounds = (0,1)\n",
    "\n",
    "\n",
    "        # Perform mean value imputation\n",
    "    \n",
    "        \n",
    "        # Low precision reflects uncertainty; prevents overfitting.\n",
    "        # Set to the mean variance across users and items.\n",
    "        self.alpha_u = (np.mean(self.data, axis=1).mean())**2 / np.std(self.data, axis=1).mean()\n",
    "        self.alpha_v = (np.mean(self.data, axis=0).mean())**2 / np.std(self.data, axis=0).mean()\n",
    "\n",
    "        self.beta_u = (np.mean(self.data, axis=1).mean()) / np.std(self.data, axis=1).mean()\n",
    "        self.beta_v = (np.mean(self.data, axis=0).mean()) / np.std(self.data, axis=0).mean()\n",
    "       \n",
    "        self.bias = self.data.mean()\n",
    "        #specify model coords\n",
    "        coords = {\n",
    "        \"drug\": np.arange(self.n),\n",
    "        \"latent\": np.arange(self.dim),\n",
    "        \"side_effect\": np.arange(self.m),\n",
    "            }\n",
    "        # Specify the model.\n",
    "        logging.info(\"building the PMF model\")\n",
    "\n",
    "        with pm.Model(coords=coords) as pmf:\n",
    "            U = pm.Gamma(\n",
    "                \"U\",\n",
    "                alpha=self.alpha_u,\n",
    "                beta=self.beta_u,\n",
    "                dims=(\"drug\", \"latent\"),\n",
    "                #testval=np.random.randn(n, dim) * std,\n",
    "            )\n",
    "      \n",
    "            V = pm.Gamma(\n",
    "                \"V\",\n",
    "                alpha=self.alpha_v,\n",
    "                beta=self.beta_v,\n",
    "                dims=(\"side_effect\", \"latent\"),\n",
    "                #testval=np.random.randn(m, dim) * std,\n",
    "            )\n",
    "    \n",
    "\n",
    "            R = pm.Poisson(\n",
    "                \"R\", mu=(U @ V.T), observed=self.data , dims = (\"drug\", \"side_effect\")\n",
    "            )\n",
    "\n",
    "        logging.info(\"done building the PMF model\")\n",
    "        self.model = pmf\n",
    "\n",
    "    def __str__(self):\n",
    "        return self.name\n",
    "    \n",
    "    def find_map(self):\n",
    "    #\"\"\"Find mode of posterior using L-BFGS-B optimization.\"\"\"\n",
    "        tstart = time.time()\n",
    "        with self.model:\n",
    "            logging.info(\"finding PMF MAP using L-BFGS-B optimization...\")\n",
    "            self.map = pm.find_MAP(method=\"L-BFGS-B\")\n",
    "\n",
    "        elapsed = int(time.time() - tstart)\n",
    "        logging.info(\"found PMF MAP in %d seconds\" % elapsed)\n",
    "        return self.map\n",
    "\n",
    "\n",
    "    def map(self):\n",
    "        try:\n",
    "            return self.map\n",
    "        except:\n",
    "            return self.find_map()\n",
    "\n",
    "    def rmse(self,test_data, predicted):\n",
    "        low, high = self.bounds\n",
    "        test_data[test_data < low] = low\n",
    "        test_data[test_data > high] = high\n",
    "        sqerror = abs(test_data - predicted) ** 2  # squared error array\n",
    "        mse = sqerror.sum()/(test_data.shape[0]*test_data.shape[1])\n",
    "        return np.sqrt(mse)\n",
    "\n",
    "    def predict(self, U, V):\n",
    "     #\"\"\"Estimate R from the given values of U and V.\"\"\"\n",
    "        R = np.dot(U, V.T)\n",
    "        n, m = R.shape\n",
    "        sample_R = np.random.poisson(R)\n",
    "        # bound ratings\n",
    "        low, high = self.bounds\n",
    "        sample_R[sample_R < high] = low\n",
    "        sample_R[sample_R >= high] = high\n",
    "        return sample_R\n",
    "\n",
    "    def eval_map(self, train, test):\n",
    "        U = self.map[\"U\"]\n",
    "        V = self.map[\"V\"]\n",
    "        #VU = self.map[\"VU\"]\n",
    "\n",
    "        # Make predictions and calculate RMSE on train & test sets.\n",
    "        predictions = self.predict(U, V )\n",
    "        train_rmse = self.rmse(train, predictions)\n",
    "        test_rmse = self.rmse(test, predictions)\n",
    "        overfit = test_rmse - train_rmse\n",
    "\n",
    "        # Print report.\n",
    "        print(\"PMF MAP training RMSE: %.5f\" % train_rmse)\n",
    "        print(\"PMF MAP testing RMSE:  %.5f\" % test_rmse)\n",
    "        print(\"Train/test difference: %.5f\" % overfit)\n",
    "\n",
    "        return test_rmse\n",
    "\n",
    "    def draw_samples(self, **kwargs):\n",
    "        kwargs.setdefault(\"chains\", 1)\n",
    "        with self.model:\n",
    "            self.trace = pm.sample(**kwargs)"
   ]
  },
  {
   "cell_type": "code",
   "execution_count": 3,
   "metadata": {},
   "outputs": [],
   "source": [
    "import pickle\n",
    "\n",
    "with open('data_all.pickle', 'rb') as handle:\n",
    "    data = pickle.load(handle)\n",
    "\n"
   ]
  },
  {
   "cell_type": "code",
   "execution_count": 4,
   "metadata": {},
   "outputs": [
    {
     "name": "stderr",
     "output_type": "stream",
     "text": [
      "INFO:root:building the PMF model\n",
      "INFO:root:done building the PMF model\n"
     ]
    }
   ],
   "source": [
    "\n",
    "DIM = 10\n",
    "pmf = PMF_vanilla(data, DIM)"
   ]
  },
  {
   "cell_type": "code",
   "execution_count": 5,
   "metadata": {},
   "outputs": [
    {
     "name": "stderr",
     "output_type": "stream",
     "text": [
      "INFO:root:finding PMF MAP using L-BFGS-B optimization...\n"
     ]
    },
    {
     "data": {
      "text/html": [
       "\n",
       "<style>\n",
       "    /* Turns off some styling */\n",
       "    progress {\n",
       "        /* gets rid of default border in Firefox and Opera. */\n",
       "        border: none;\n",
       "        /* Needs to be in here for Safari polyfill so background images work as expected. */\n",
       "        background-size: auto;\n",
       "    }\n",
       "    progress:not([value]), progress:not([value])::-webkit-progress-bar {\n",
       "        background: repeating-linear-gradient(45deg, #7e7e7e, #7e7e7e 10px, #5c5c5c 10px, #5c5c5c 20px);\n",
       "    }\n",
       "    .progress-bar-interrupted, .progress-bar-interrupted::-webkit-progress-bar {\n",
       "        background: #F44336;\n",
       "    }\n",
       "</style>\n"
      ],
      "text/plain": [
       "<IPython.core.display.HTML object>"
      ]
     },
     "metadata": {},
     "output_type": "display_data"
    },
    {
     "data": {
      "text/html": [
       "\n",
       "    <div>\n",
       "      <progress value='4433' class='' max='4433' style='width:300px; height:20px; vertical-align: middle;'></progress>\n",
       "      100.00% [4433/4433 09:25&lt;00:00 logp = -2.3793e+07, ||grad|| = 8,266.3]\n",
       "    </div>\n",
       "    "
      ],
      "text/plain": [
       "<IPython.core.display.HTML object>"
      ]
     },
     "metadata": {},
     "output_type": "display_data"
    },
    {
     "name": "stdout",
     "output_type": "stream",
     "text": [
      "\n"
     ]
    },
    {
     "name": "stderr",
     "output_type": "stream",
     "text": [
      "INFO:root:found PMF MAP in 571 seconds\n"
     ]
    },
    {
     "name": "stdout",
     "output_type": "stream",
     "text": [
      "PMF MAP training RMSE: 0.44834\n",
      "PMF MAP testing RMSE:  0.44834\n",
      "Train/test difference: 0.00000\n"
     ]
    }
   ],
   "source": [
    "pmf.find_map()\n",
    "pmf_map_rmse = pmf.eval_map(data, data)"
   ]
  },
  {
   "cell_type": "code",
   "execution_count": 6,
   "metadata": {},
   "outputs": [
    {
     "name": "stderr",
     "output_type": "stream",
     "text": [
      "Auto-assigning NUTS sampler...\n",
      "INFO:pymc:Auto-assigning NUTS sampler...\n",
      "Initializing NUTS using jitter+adapt_diag...\n",
      "INFO:pymc:Initializing NUTS using jitter+adapt_diag...\n",
      "Sequential sampling (1 chains in 1 job)\n",
      "INFO:pymc:Sequential sampling (1 chains in 1 job)\n",
      "NUTS: [U, V]\n",
      "INFO:pymc:NUTS: [U, V]\n"
     ]
    },
    {
     "data": {
      "text/html": [
       "\n",
       "<style>\n",
       "    /* Turns off some styling */\n",
       "    progress {\n",
       "        /* gets rid of default border in Firefox and Opera. */\n",
       "        border: none;\n",
       "        /* Needs to be in here for Safari polyfill so background images work as expected. */\n",
       "        background-size: auto;\n",
       "    }\n",
       "    progress:not([value]), progress:not([value])::-webkit-progress-bar {\n",
       "        background: repeating-linear-gradient(45deg, #7e7e7e, #7e7e7e 10px, #5c5c5c 10px, #5c5c5c 20px);\n",
       "    }\n",
       "    .progress-bar-interrupted, .progress-bar-interrupted::-webkit-progress-bar {\n",
       "        background: #F44336;\n",
       "    }\n",
       "</style>\n"
      ],
      "text/plain": [
       "<IPython.core.display.HTML object>"
      ]
     },
     "metadata": {},
     "output_type": "display_data"
    },
    {
     "data": {
      "text/html": [
       "\n",
       "    <div>\n",
       "      <progress value='117' class='' max='600' style='width:300px; height:20px; vertical-align: middle;'></progress>\n",
       "      19.50% [117/600 41:07&lt;2:49:47 Sampling chain 0, 0 divergences]\n",
       "    </div>\n",
       "    "
      ],
      "text/plain": [
       "<IPython.core.display.HTML object>"
      ]
     },
     "metadata": {},
     "output_type": "display_data"
    }
   ],
   "source": [
    "\n",
    "pmf.draw_samples(chains =1,\n",
    "            draws=500,\n",
    "            tune=100,)"
   ]
  },
  {
   "cell_type": "code",
   "execution_count": 25,
   "metadata": {},
   "outputs": [
    {
     "name": "stdout",
     "output_type": "stream",
     "text": [
      "[[ 1  0  0 ...  1  0  0]\n",
      " [ 0  0  0 ...  0  0  0]\n",
      " [ 1  0  0 ...  1  8  0]\n",
      " ...\n",
      " [ 8  0  0 ... 10 12  0]\n",
      " [ 1  0  0 ...  4 25  0]\n",
      " [ 0  0  0 ...  0  0  0]]\n"
     ]
    }
   ],
   "source": [
    "\n",
    "#although intercepts might not make that much sense in the poisson-gamma model\n",
    "class PMF_intercepts:\n",
    "    def __init__(self, train, dim):\n",
    "        \"\"\"Build the Probabilistic Matrix Factorization model using pymc3.\n",
    "\n",
    "\n",
    "\n",
    "        \"\"\"\n",
    "        self.dim = dim\n",
    "    \n",
    "      \n",
    "        self.data = train.copy()\n",
    "        self.n, self.m = self.data.shape\n",
    "        self.map = None\n",
    "        self.bounds = (0,1)\n",
    "\n",
    "\n",
    "        # Perform mean value imputation\n",
    "    \n",
    "        \n",
    "        # Low precision reflects uncertainty; prevents overfitting.\n",
    "        # Set to the mean variance across users and items.\n",
    "        self.alpha_u = (np.mean(self.data, axis=1).mean())**2 / np.std(self.data, axis=1).mean()\n",
    "        self.alpha_v = (np.mean(self.data, axis=0).mean())**2 / np.std(self.data, axis=0).mean()\n",
    "\n",
    "        self.beta_u = (np.mean(self.data, axis=1).mean()) / np.std(self.data, axis=1).mean()\n",
    "        self.beta_v = (np.mean(self.data, axis=0).mean()) / np.std(self.data, axis=0).mean()\n",
    "       \n",
    "        self.bias = self.data.mean()\n",
    "        #specify model coords\n",
    "        coords = {\n",
    "        \"drug\": np.arange(self.n),\n",
    "        \"latent\": np.arange(self.dim),\n",
    "        \"side_effect\": np.arange(self.m),\n",
    "            }\n",
    "        # Specify the model.\n",
    "        logging.info(\"building the PMF model\")\n",
    "\n",
    "        with pm.Model(coords=coords) as pmf:\n",
    "            U = pm.Gamma(\n",
    "                \"U\",\n",
    "                alpha=self.alpha_u,\n",
    "                beta=self.beta_u,\n",
    "                dims=(\"drug\", \"latent\"),\n",
    "                #testval=np.random.randn(n, dim) * std,\n",
    "            )\n",
    "      \n",
    "            V = pm.Gamma(\n",
    "                \"V\",\n",
    "                alpha=self.alpha_v,\n",
    "                beta=self.beta_v,\n",
    "                dims=(\"side_effect\", \"latent\"),\n",
    "                #testval=np.random.randn(m, dim) * std,\n",
    "            )\n",
    "    \n",
    "\n",
    "            R = pm.Poisson(\n",
    "                \"R\", mu=(U @ V.T), observed=self.data , dims = (\"drug\", \"side_effect\")\n",
    "            )\n",
    "\n",
    "        logging.info(\"done building the PMF model\")\n",
    "        self.model = pmf\n",
    "\n",
    "    def __str__(self):\n",
    "        return self.name\n",
    "    \n",
    "    def find_map(self):\n",
    "    #\"\"\"Find mode of posterior using L-BFGS-B optimization.\"\"\"\n",
    "        tstart = time.time()\n",
    "        with self.model:\n",
    "            logging.info(\"finding PMF MAP using L-BFGS-B optimization...\")\n",
    "            self.map = pm.find_MAP(method=\"L-BFGS-B\")\n",
    "\n",
    "        elapsed = int(time.time() - tstart)\n",
    "        logging.info(\"found PMF MAP in %d seconds\" % elapsed)\n",
    "        return self.map\n",
    "\n",
    "\n",
    "    def map(self):\n",
    "        try:\n",
    "            return self.map\n",
    "        except:\n",
    "            return self.find_map()\n",
    "\n",
    "    def rmse(self,test_data, predicted):\n",
    "        low, high = self.bounds\n",
    "        test_data[test_data < low] = low\n",
    "        test_data[test_data > high] = high\n",
    "        sqerror = abs(test_data - predicted) ** 2  # squared error array\n",
    "        mse = sqerror.sum()/(test_data.shape[0]*test_data.shape[1])\n",
    "        return np.sqrt(mse)\n",
    "\n",
    "    def predict(self, U, V):\n",
    "     #\"\"\"Estimate R from the given values of U and V.\"\"\"\n",
    "        R = np.dot(U, V.T)\n",
    "        n, m = R.shape\n",
    "        sample_R = np.random.poisson(R)\n",
    "        # bound ratings\n",
    "        low, high = self.bounds\n",
    "        sample_R[sample_R < low] = low\n",
    "        sample_R[sample_R > high] = high\n",
    "        return sample_R\n",
    "\n",
    "    def eval_map(self, train, test):\n",
    "        U = self.map[\"U\"]\n",
    "        V = self.map[\"V\"]\n",
    "        #VU = self.map[\"VU\"]\n",
    "\n",
    "        # Make predictions and calculate RMSE on train & test sets.\n",
    "        predictions = self.predict(U, V )\n",
    "        train_rmse = self.rmse(train, predictions)\n",
    "        test_rmse = self.rmse(test, predictions)\n",
    "        overfit = test_rmse - train_rmse\n",
    "\n",
    "        # Print report.\n",
    "        print(\"PMF MAP training RMSE: %.5f\" % train_rmse)\n",
    "        print(\"PMF MAP testing RMSE:  %.5f\" % test_rmse)\n",
    "        print(\"Train/test difference: %.5f\" % overfit)\n",
    "\n",
    "        return test_rmse\n",
    "    \n",
    "    def draw_samples(self, **kwargs):\n",
    "        kwargs.setdefault(\"chains\", 1)\n",
    "        with self.model:\n",
    "            self.trace = pm.sample(**kwargs)"
   ]
  },
  {
   "cell_type": "code",
   "execution_count": 26,
   "metadata": {},
   "outputs": [
    {
     "name": "stdout",
     "output_type": "stream",
     "text": [
      "[[ 1  0  0 ...  0  1  0]\n",
      " [ 0  0  0 ...  1  2  0]\n",
      " [ 0  0  0 ...  6  4  1]\n",
      " ...\n",
      " [11  1  0 ...  6 27  0]\n",
      " [ 7  0  0 ...  5 15  0]\n",
      " [ 0  0  0 ...  1  0  0]]\n"
     ]
    }
   ],
   "source": []
  }
 ],
 "metadata": {
  "kernelspec": {
   "display_name": "Python 3.8.9 64-bit",
   "language": "python",
   "name": "python3"
  },
  "language_info": {
   "codemirror_mode": {
    "name": "ipython",
    "version": 3
   },
   "file_extension": ".py",
   "mimetype": "text/x-python",
   "name": "python",
   "nbconvert_exporter": "python",
   "pygments_lexer": "ipython3",
   "version": "3.8.9"
  },
  "orig_nbformat": 4,
  "vscode": {
   "interpreter": {
    "hash": "31f2aee4e71d21fbe5cf8b01ff0e069b9275f58929596ceb00d14d90e3e16cd6"
   }
  }
 },
 "nbformat": 4,
 "nbformat_minor": 2
}
